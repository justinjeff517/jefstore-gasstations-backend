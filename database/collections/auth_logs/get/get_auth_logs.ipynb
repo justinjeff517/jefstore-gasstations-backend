{
 "cells": [
  {
   "cell_type": "code",
   "execution_count": 5,
   "id": "130e2f06",
   "metadata": {},
   "outputs": [
    {
     "name": "stdout",
     "output_type": "stream",
     "text": [
      "[\n",
      "  {\n",
      "    \"id\": \"df7c671e-4e7c-42cb-ad91-47d08908f8ba\",\n",
      "    \"timestamp\": \"2025-09-21T20:19:11.241686Z\",\n",
      "    \"user_id\": \"1\",\n",
      "    \"username\": \"sikatunajefgas\",\n",
      "    \"is_granted\": true\n",
      "  }\n",
      "]\n"
     ]
    }
   ],
   "source": [
    "import json\n",
    "from pymongo import MongoClient\n",
    "import os\n",
    "from dotenv import load_dotenv\n",
    "\n",
    "# Load environment variables\n",
    "load_dotenv()\n",
    "\n",
    "# MongoDB connection\n",
    "uri = os.getenv(\"MONGODB_URI\")\n",
    "database = os.getenv(\"MONGODB_DATABASE\")\n",
    "collection = \"auth_logs\"\n",
    "\n",
    "client = MongoClient(uri)\n",
    "db = client[database]\n",
    "coll = db[collection]\n",
    "\n",
    "# Fetch all auth logs\n",
    "auth_logs = list(coll.find({}, {\"_id\": 0}))  # exclude _id\n",
    "\n",
    "# Pretty print JSON\n",
    "print(json.dumps(auth_logs, indent=2))\n"
   ]
  }
 ],
 "metadata": {
  "kernelspec": {
   "display_name": ".venv",
   "language": "python",
   "name": "python3"
  },
  "language_info": {
   "codemirror_mode": {
    "name": "ipython",
    "version": 3
   },
   "file_extension": ".py",
   "mimetype": "text/x-python",
   "name": "python",
   "nbconvert_exporter": "python",
   "pygments_lexer": "ipython3",
   "version": "3.12.0"
  }
 },
 "nbformat": 4,
 "nbformat_minor": 5
}
