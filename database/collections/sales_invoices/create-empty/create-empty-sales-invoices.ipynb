{
 "cells": [
  {
   "cell_type": "code",
   "execution_count": 1,
   "id": "301585c2",
   "metadata": {},
   "outputs": [
    {
     "name": "stdout",
     "output_type": "stream",
     "text": [
      "✅ New empty sales_invoices form created following schema.\n",
      "{\n",
      "  \"id\": \"2b877c11-acbc-40f4-80c5-9bd13bb2d71f\",\n",
      "  \"previous_form_qr_code\": \"20251012\",\n",
      "  \"current_form_qr_code\": \"20251013\",\n",
      "  \"tin\": \"123-456-789\",\n",
      "  \"location\": \"JEF Gas Station \\u2013 Sikatuna Branch\",\n",
      "  \"created\": \"2025-10-13T05:03:46.557977Z\",\n",
      "  \"date\": \"2025-10-13\",\n",
      "  \"_id\": \"68ec8832dcfa49cf3d7e33ef\"\n",
      "}\n"
     ]
    },
    {
     "name": "stderr",
     "output_type": "stream",
     "text": [
      "C:\\Users\\jello\\AppData\\Local\\Temp\\ipykernel_7920\\1083752317.py:36: DeprecationWarning: datetime.datetime.utcnow() is deprecated and scheduled for removal in a future version. Use timezone-aware objects to represent datetimes in UTC: datetime.datetime.now(datetime.UTC).\n",
      "  \"created\": datetime.utcnow().isoformat() + \"Z\",\n"
     ]
    }
   ],
   "source": [
    "import json\n",
    "import uuid\n",
    "from datetime import datetime, timedelta\n",
    "from pymongo import MongoClient\n",
    "from dotenv import load_dotenv\n",
    "import os\n",
    "\n",
    "# --- Load environment variables ---\n",
    "load_dotenv()\n",
    "uri = os.getenv(\"MONGODB_URI\")\n",
    "database_name = os.getenv(\"MONGODB_DATABASE\")\n",
    "collection_name = \"sales_invoices\"\n",
    "\n",
    "# --- Connect to MongoDB ---\n",
    "client = MongoClient(uri)\n",
    "db = client[database_name]\n",
    "collection = db[collection_name]\n",
    "\n",
    "# --- Load the previous document (latest by current_form_qr_code) ---\n",
    "previous = collection.find_one(sort=[(\"current_form_qr_code\", -1)])\n",
    "if not previous:\n",
    "    raise ValueError(\"No previous sales_invoices document found.\")\n",
    "\n",
    "# --- Compute next form QR code ---\n",
    "prev_qr = previous[\"current_form_qr_code\"]\n",
    "next_date = datetime.strptime(prev_qr, \"%Y%m%d\") + timedelta(days=1)\n",
    "next_qr = next_date.strftime(\"%Y%m%d\")\n",
    "\n",
    "# --- Build new schema-compliant document ---\n",
    "new_doc = {\n",
    "    \"id\": str(uuid.uuid4()),\n",
    "    \"previous_form_qr_code\": prev_qr,\n",
    "    \"current_form_qr_code\": next_qr,\n",
    "    \"tin\": previous.get(\"tin\", \"\"),\n",
    "    \"location\": previous.get(\"location\", \"\"),\n",
    "    \"created\": datetime.utcnow().isoformat() + \"Z\",\n",
    "    \"date\": next_date.strftime(\"%Y-%m-%d\")\n",
    "}\n",
    "\n",
    "# --- Insert into MongoDB ---\n",
    "collection.insert_one(new_doc)\n",
    "\n",
    "print(\"✅ New empty sales_invoices form created following schema.\")\n",
    "print(json.dumps(new_doc, indent=2, default=str))\n"
   ]
  }
 ],
 "metadata": {
  "kernelspec": {
   "display_name": ".venv",
   "language": "python",
   "name": "python3"
  },
  "language_info": {
   "codemirror_mode": {
    "name": "ipython",
    "version": 3
   },
   "file_extension": ".py",
   "mimetype": "text/x-python",
   "name": "python",
   "nbconvert_exporter": "python",
   "pygments_lexer": "ipython3",
   "version": "3.12.0"
  }
 },
 "nbformat": 4,
 "nbformat_minor": 5
}
