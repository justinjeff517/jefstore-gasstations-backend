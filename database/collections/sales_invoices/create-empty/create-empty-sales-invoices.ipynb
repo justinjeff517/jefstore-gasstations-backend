{
 "cells": [
  {
   "cell_type": "code",
   "execution_count": 14,
   "id": "301585c2",
   "metadata": {},
   "outputs": [
    {
     "name": "stdout",
     "output_type": "stream",
     "text": [
      "✅ Reusing latest EMPTY form (no new document created).\n",
      "{\n",
      "  \"_id\": \"68ed1b27c3992aaea60563f1\",\n",
      "  \"id\": \"5812d170-c0fb-4a77-a0f1-263616dc7a67\",\n",
      "  \"previous_form_qr_code\": \"20251012\",\n",
      "  \"current_form_qr_code\": \"a1b36b5a\",\n",
      "  \"tin\": \"123-456-789\",\n",
      "  \"location\": \"JEF Gas Station \\u2013 Sikatuna Branch\",\n",
      "  \"created\": \"2025-10-13T15:30:47.572217+00:00\",\n",
      "  \"date\": \"2025-10-13\"\n",
      "}\n"
     ]
    }
   ],
   "source": [
    "import json, uuid, os\n",
    "from datetime import datetime, timezone\n",
    "from pymongo import MongoClient\n",
    "from dotenv import load_dotenv\n",
    "\n",
    "# --- Load environment variables ---\n",
    "load_dotenv()\n",
    "uri = os.getenv(\"MONGODB_URI\")\n",
    "database_name = os.getenv(\"MONGODB_DATABASE\")\n",
    "collection_name = \"sales_invoices\"\n",
    "\n",
    "# --- Connect to MongoDB ---\n",
    "client = MongoClient(uri)\n",
    "db = client[database_name]\n",
    "col = db[collection_name]\n",
    "\n",
    "# --- Find latest EMPTY document (items missing OR empty array) ---\n",
    "latest_empty = col.find_one(\n",
    "    {\n",
    "        \"$or\": [\n",
    "            {\"items\": {\"$exists\": False}},\n",
    "            {\"items\": {\"$size\": 0}}\n",
    "        ]\n",
    "    },\n",
    "    sort=[(\"created\", -1)]\n",
    ")\n",
    "\n",
    "if latest_empty:\n",
    "    print(\"✅ Reusing latest EMPTY form (no new document created).\")\n",
    "    print(json.dumps(latest_empty, indent=2, default=str))\n",
    "else:\n",
    "    # --- Find latest existing document for inheritance ---\n",
    "    latest_doc = col.find_one(sort=[(\"created\", -1)])\n",
    "\n",
    "    prev_qr = latest_doc.get(\"current_form_qr_code\", \"\") if latest_doc else \"\"\n",
    "    prev_tin = latest_doc.get(\"tin\", \"\") if latest_doc else \"\"\n",
    "    prev_location = latest_doc.get(\"location\", \"\") if latest_doc else \"\"\n",
    "\n",
    "    # --- Build new empty form ---\n",
    "    new_doc = {\n",
    "        \"id\": str(uuid.uuid4()),\n",
    "        \"previous_form_qr_code\": prev_qr,\n",
    "        \"current_form_qr_code\": str(uuid.uuid4())[:8],\n",
    "        \"tin\": prev_tin,\n",
    "        \"location\": prev_location,\n",
    "        \"created\": datetime.now(timezone.utc).isoformat(),\n",
    "        \"date\": datetime.now(timezone.utc).date().isoformat()\n",
    "    }\n",
    "\n",
    "    res = col.insert_one(new_doc)\n",
    "    new_doc[\"_id\"] = str(res.inserted_id)\n",
    "\n",
    "    print(\"✅ Created new EMPTY form (no existing empty one found).\")\n",
    "    print(json.dumps(new_doc, indent=2, default=str))\n"
   ]
  }
 ],
 "metadata": {
  "kernelspec": {
   "display_name": ".venv",
   "language": "python",
   "name": "python3"
  },
  "language_info": {
   "codemirror_mode": {
    "name": "ipython",
    "version": 3
   },
   "file_extension": ".py",
   "mimetype": "text/x-python",
   "name": "python",
   "nbconvert_exporter": "python",
   "pygments_lexer": "ipython3",
   "version": "3.12.0"
  }
 },
 "nbformat": 4,
 "nbformat_minor": 5
}
