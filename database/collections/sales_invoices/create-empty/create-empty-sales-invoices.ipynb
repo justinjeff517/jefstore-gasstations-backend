{
 "cells": [
  {
   "cell_type": "code",
   "execution_count": null,
   "id": "301585c2",
   "metadata": {},
   "outputs": [],
   "source": [
    "import json\n",
    "from datetime import datetime, timedelta\n",
    "from pymongo import MongoClient\n",
    "from dotenv import load_dotenv\n",
    "import os\n",
    "\n",
    "# --- Load environment variables ---\n",
    "load_dotenv()\n",
    "uri = os.getenv(\"MONGODB_URI\")\n",
    "database_name = os.getenv(\"MONGODB_DATABASE\")\n",
    "collection_name = \"sales_invoices\"\n",
    "\n",
    "# --- Connect to MongoDB ---\n",
    "client = MongoClient(uri)\n",
    "db = client[database_name]\n",
    "collection = db[collection_name]\n",
    "\n",
    "# --- Load the previous document (latest by current_form_qr_code) ---\n",
    "previous = collection.find_one(sort=[(\"current_form_qr_code\", -1)])\n",
    "\n",
    "if not previous:\n",
    "    raise ValueError(\"No previous sales_invoices document found.\")\n",
    "\n",
    "# --- Compute next form QR code ---\n",
    "prev_qr = previous[\"current_form_qr_code\"]\n",
    "next_date = datetime.strptime(prev_qr, \"%Y%m%d\") + timedelta(days=1)\n",
    "next_qr = next_date.strftime(\"%Y%m%d\")\n",
    "\n",
    "# --- Build new empty document ---\n",
    "new_doc = {\n",
    "    \"previous_form_qr_code\": prev_qr,\n",
    "    \"current_form_qr_code\": next_qr,\n",
    "    \"tin\": previous.get(\"tin\", \"\"),\n",
    "    \"location\": previous.get(\"location\", \"\"),\n",
    "    \"created\": datetime.utcnow().isoformat() + \"Z\",\n",
    "    \"date\": next_date.strftime(\"%Y-%m-%d\")\n",
    "}\n",
    "\n",
    "# --- Insert into MongoDB ---\n",
    "result = collection.insert_one(new_doc)\n",
    "print(\"✅ New empty sales_invoices form created.\")\n",
    "print(json.dumps(new_doc, indent=2, default=str))\n"
   ]
  }
 ],
 "metadata": {
  "kernelspec": {
   "display_name": ".venv",
   "language": "python",
   "name": "python3"
  },
  "language_info": {
   "name": "python",
   "version": "3.12.0"
  }
 },
 "nbformat": 4,
 "nbformat_minor": 5
}
