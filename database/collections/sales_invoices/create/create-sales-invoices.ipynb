{
 "cells": [
  {
   "cell_type": "code",
   "execution_count": 3,
   "id": "7d27bdb0",
   "metadata": {},
   "outputs": [
    {
     "name": "stdout",
     "output_type": "stream",
     "text": [
      "{\n",
      "  \"acknowledged\": true,\n",
      "  \"matched_count\": 0,\n",
      "  \"modified_count\": 0,\n",
      "  \"upserted_id\": \"68f83665a268c4061366be55\",\n",
      "  \"document_id\": \"8f6a2e4b-3d9a-4f2f-9c2a-7b1a0f4c9d31\",\n",
      "  \"items_count\": 6\n",
      "}\n"
     ]
    }
   ],
   "source": [
    "import os, json\n",
    "from dotenv import load_dotenv\n",
    "from pymongo import MongoClient\n",
    "from bson import json_util as bsonju\n",
    "\n",
    "# --- setup ---\n",
    "load_dotenv()\n",
    "uri = os.getenv(\"MONGODB_URI\")\n",
    "db_name = os.getenv(\"MONGODB_DATABASE\")\n",
    "coll_name = \"sales_invoices\"\n",
    "path = \"data.json\"\n",
    "\n",
    "if not uri or not db_name:\n",
    "    raise RuntimeError(\"Set MONGODB_URI and MONGODB_DATABASE in your .env\")\n",
    "\n",
    "# --- read data.json (Extended JSON preserved) ---\n",
    "with open(path, \"r\", encoding=\"utf-8\") as f:\n",
    "    raw = f.read().strip()\n",
    "\n",
    "data = bsonju.loads(raw)  # preserves {\"$date\": ...}\n",
    "\n",
    "# accept either a single object or a single-element array\n",
    "if isinstance(data, list):\n",
    "    if len(data) != 1:\n",
    "        raise ValueError(\"data.json must contain exactly one document\")\n",
    "    doc = data[0]\n",
    "elif isinstance(data, dict):\n",
    "    doc = data\n",
    "else:\n",
    "    raise TypeError(\"data.json must be a JSON object or a one-element array\")\n",
    "\n",
    "if \"id\" not in doc or not isinstance(doc[\"id\"], str) or not doc[\"id\"]:\n",
    "    raise ValueError(\"Document must include a non-empty string 'id'\")\n",
    "\n",
    "# --- upload (upsert by 'id') ---\n",
    "client = MongoClient(uri)\n",
    "coll = client[db_name][coll_name]\n",
    "\n",
    "res = coll.replace_one({\"id\": doc[\"id\"]}, doc, upsert=True)\n",
    "\n",
    "summary = {\n",
    "    \"acknowledged\": res.acknowledged,\n",
    "    \"matched_count\": res.matched_count,\n",
    "    \"modified_count\": res.modified_count,\n",
    "    \"upserted_id\": str(res.upserted_id) if res.upserted_id else None,\n",
    "    \"document_id\": doc[\"id\"],\n",
    "    \"items_count\": len(doc.get(\"items\") or []),\n",
    "}\n",
    "\n",
    "print(json.dumps(summary, ensure_ascii=False, indent=2, default=bsonju.default))\n"
   ]
  }
 ],
 "metadata": {
  "kernelspec": {
   "display_name": ".venv",
   "language": "python",
   "name": "python3"
  },
  "language_info": {
   "codemirror_mode": {
    "name": "ipython",
    "version": 3
   },
   "file_extension": ".py",
   "mimetype": "text/x-python",
   "name": "python",
   "nbconvert_exporter": "python",
   "pygments_lexer": "ipython3",
   "version": "3.12.0"
  }
 },
 "nbformat": 4,
 "nbformat_minor": 5
}
