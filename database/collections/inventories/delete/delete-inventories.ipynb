{
 "cells": [
  {
   "cell_type": "code",
   "execution_count": 1,
   "id": "323fa5e5",
   "metadata": {},
   "outputs": [
    {
     "name": "stdout",
     "output_type": "stream",
     "text": [
      "{'collection': 'inventories', 'deleted_count': 6, 'before_count': 6, 'after_count': 0}\n"
     ]
    }
   ],
   "source": [
    "import os\n",
    "from pymongo import MongoClient\n",
    "from dotenv import load_dotenv\n",
    "\n",
    "# Load environment variables\n",
    "load_dotenv()\n",
    "uri = os.getenv(\"MONGODB_URI\")\n",
    "database = os.getenv(\"MONGODB_DATABASE\")\n",
    "collection_name = \"inventories\"\n",
    "\n",
    "# Connect\n",
    "client = MongoClient(uri)\n",
    "db = client[database]\n",
    "coll = db[collection_name]\n",
    "\n",
    "# Delete all documents\n",
    "before = coll.estimated_document_count()\n",
    "result = coll.delete_many({})\n",
    "after = coll.estimated_document_count()\n",
    "\n",
    "print({\n",
    "    \"collection\": collection_name,\n",
    "    \"deleted_count\": result.deleted_count,\n",
    "    \"before_count\": before,\n",
    "    \"after_count\": after\n",
    "})\n"
   ]
  }
 ],
 "metadata": {
  "kernelspec": {
   "display_name": ".venv",
   "language": "python",
   "name": "python3"
  },
  "language_info": {
   "codemirror_mode": {
    "name": "ipython",
    "version": 3
   },
   "file_extension": ".py",
   "mimetype": "text/x-python",
   "name": "python",
   "nbconvert_exporter": "python",
   "pygments_lexer": "ipython3",
   "version": "3.12.0"
  }
 },
 "nbformat": 4,
 "nbformat_minor": 5
}
