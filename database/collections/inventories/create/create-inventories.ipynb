{
 "cells": [
  {
   "cell_type": "code",
   "execution_count": 1,
   "id": "c951840e",
   "metadata": {},
   "outputs": [
    {
     "name": "stdout",
     "output_type": "stream",
     "text": [
      "{'acknowledged': True, 'matched_count': 0, 'modified_count': 0, 'upserted_id': '68ee7385a268c4061366bb56', 'collection': 'inventories'}\n"
     ]
    }
   ],
   "source": [
    "import json\n",
    "import os\n",
    "import uuid\n",
    "from datetime import datetime, timezone\n",
    "from pymongo import MongoClient\n",
    "from dotenv import load_dotenv\n",
    "\n",
    "# Load environment variables\n",
    "load_dotenv()\n",
    "uri = os.getenv(\"MONGODB_URI\")\n",
    "database = os.getenv(\"MONGODB_DATABASE\")\n",
    "collection_name = \"inventories\"\n",
    "\n",
    "# Document-level timestamp\n",
    "doc_created = datetime.fromisoformat(\"2025-10-12T08:00:00+00:00\")\n",
    "\n",
    "# Base item data\n",
    "base_items = [\n",
    "    {\"barcode\": \"4809992000101\", \"type\": \"fuel\", \"name\": \"Premium Gasoline\", \"price\": 69.50, \"unit\": \"liter\", \"previous_quantity\": 520, \"addstock\": 300, \"sold\": 250, \"current_quantity\": 570},\n",
    "    {\"barcode\": \"4809992000102\", \"type\": \"fuel\", \"name\": \"Regular Gasoline\", \"price\": 64.75, \"unit\": \"liter\", \"previous_quantity\": 680, \"addstock\": 400, \"sold\": 320, \"current_quantity\": 760},\n",
    "    {\"barcode\": \"4809992000103\", \"type\": \"fuel\", \"name\": \"Premium Diesel\", \"price\": 61.20, \"unit\": \"liter\", \"previous_quantity\": 450, \"addstock\": 350, \"sold\": 280, \"current_quantity\": 520},\n",
    "    {\"barcode\": \"4809992000201\", \"type\": \"lubricant\", \"name\": \"Engine Oil SAE 40\", \"price\": 250.00, \"unit\": \"liter\", \"previous_quantity\": 60, \"addstock\": 40, \"sold\": 25, \"current_quantity\": 75},\n",
    "    {\"barcode\": \"4809992000202\", \"type\": \"lubricant\", \"name\": \"Automatic Transmission Fluid (ATF)\", \"price\": 310.00, \"unit\": \"liter\", \"previous_quantity\": 50, \"addstock\": 30, \"sold\": 20, \"current_quantity\": 60},\n",
    "    {\"barcode\": \"4809992000203\", \"type\": \"lubricant\", \"name\": \"Gear Oil EP 90\", \"price\": 285.00, \"unit\": \"liter\", \"previous_quantity\": 45, \"addstock\": 25, \"sold\": 15, \"current_quantity\": 55},\n",
    "    {\"barcode\": \"4809992000204\", \"type\": \"lubricant\", \"name\": \"Hydraulic Oil ISO 68\", \"price\": 295.00, \"unit\": \"liter\", \"previous_quantity\": 35, \"addstock\": 25, \"sold\": 10, \"current_quantity\": 50},\n",
    "    {\"barcode\": \"4809992000205\", \"type\": \"lubricant\", \"name\": \"2T Motorcycle Oil\", \"price\": 180.00, \"unit\": \"liter\", \"previous_quantity\": 80, \"addstock\": 60, \"sold\": 45, \"current_quantity\": 95},\n",
    "]\n",
    "\n",
    "# Add item_number and other metadata\n",
    "items = [\n",
    "    {\n",
    "        \"item_number\": str(i + 1),\n",
    "        \"id\": str(uuid.uuid4()),\n",
    "        \"created\": doc_created,\n",
    "        \"updated\": doc_created,\n",
    "        **item\n",
    "    }\n",
    "    for i, item in enumerate(base_items)\n",
    "]\n",
    "\n",
    "# Full inventory document\n",
    "doc = {\n",
    "    \"id\": \"9f3a27e6-1b52-4e0b-bc6e-62c1f2a7c8b9\",\n",
    "    \"previous_form_qr_code\": \"20251011\",\n",
    "    \"current_form_qr_code\": \"20251012\",\n",
    "    \"date\": \"2025-10-12\",\n",
    "    \"location\": \"JEF Gas Station – Sikatuna Branch\",\n",
    "    \"tin\": \"123-456-789\",\n",
    "    \"branch\": \"JEF Biosciences Fuel Division\",\n",
    "    \"created\": doc_created,\n",
    "    \"items\": items,\n",
    "    \"cashier\": \"Liam Santos\",\n",
    "    \"cashier_employee_number\": \"50321\",\n",
    "    \"recorder\": \"Ella Reyes\",\n",
    "    \"recorder_employee_number\": \"50325\",\n",
    "    \"is_empty\": False\n",
    "}\n",
    "\n",
    "# MongoDB connection\n",
    "client = MongoClient(uri)\n",
    "db = client[database]\n",
    "coll = db[collection_name]\n",
    "\n",
    "# Ensure 'id' is unique\n",
    "coll.create_index(\"id\", unique=True)\n",
    "\n",
    "# Insert or update document\n",
    "res = coll.replace_one({\"id\": doc[\"id\"]}, doc, upsert=True)\n",
    "\n",
    "# Output summary\n",
    "print({\n",
    "    \"acknowledged\": res.acknowledged,\n",
    "    \"matched_count\": res.matched_count,\n",
    "    \"modified_count\": res.modified_count,\n",
    "    \"upserted_id\": str(res.upserted_id) if res.upserted_id else None,\n",
    "    \"collection\": collection_name\n",
    "})\n"
   ]
  }
 ],
 "metadata": {
  "kernelspec": {
   "display_name": ".venv",
   "language": "python",
   "name": "python3"
  },
  "language_info": {
   "codemirror_mode": {
    "name": "ipython",
    "version": 3
   },
   "file_extension": ".py",
   "mimetype": "text/x-python",
   "name": "python",
   "nbconvert_exporter": "python",
   "pygments_lexer": "ipython3",
   "version": "3.12.0"
  }
 },
 "nbformat": 4,
 "nbformat_minor": 5
}
