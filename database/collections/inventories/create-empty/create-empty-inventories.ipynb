{
 "cells": [
  {
   "cell_type": "code",
   "execution_count": 1,
   "id": "7d1f3836",
   "metadata": {},
   "outputs": [
    {
     "name": "stdout",
     "output_type": "stream",
     "text": [
      "inserted_id: 68ee73d2c9cd8d0decc4ccbb\n"
     ]
    },
    {
     "ename": "TypeError",
     "evalue": "Object of type datetime is not JSON serializable",
     "output_type": "error",
     "traceback": [
      "\u001b[31m---------------------------------------------------------------------------\u001b[39m",
      "\u001b[31mTypeError\u001b[39m                                 Traceback (most recent call last)",
      "\u001b[36mCell\u001b[39m\u001b[36m \u001b[39m\u001b[32mIn[1]\u001b[39m\u001b[32m, line 80\u001b[39m\n\u001b[32m     77\u001b[39m     \u001b[38;5;28mprint\u001b[39m(\u001b[33mf\u001b[39m\u001b[33m\"\u001b[39m\u001b[33minserted_id: \u001b[39m\u001b[38;5;132;01m{\u001b[39;00m\u001b[38;5;28mstr\u001b[39m(result.inserted_id)\u001b[38;5;132;01m}\u001b[39;00m\u001b[33m\"\u001b[39m)\n\u001b[32m     79\u001b[39m \u001b[38;5;66;03m# Pretty print\u001b[39;00m\n\u001b[32m---> \u001b[39m\u001b[32m80\u001b[39m \u001b[38;5;28mprint\u001b[39m(\u001b[43mjson\u001b[49m\u001b[43m.\u001b[49m\u001b[43mdumps\u001b[49m\u001b[43m(\u001b[49m\u001b[43mnew_doc\u001b[49m\u001b[43m,\u001b[49m\u001b[43m \u001b[49m\u001b[43mensure_ascii\u001b[49m\u001b[43m=\u001b[49m\u001b[38;5;28;43;01mFalse\u001b[39;49;00m\u001b[43m,\u001b[49m\u001b[43m \u001b[49m\u001b[43mindent\u001b[49m\u001b[43m=\u001b[49m\u001b[32;43m2\u001b[39;49m\u001b[43m)\u001b[49m)\n",
      "\u001b[36mFile \u001b[39m\u001b[32m~\\AppData\\Local\\Programs\\Python\\Python312\\Lib\\json\\__init__.py:238\u001b[39m, in \u001b[36mdumps\u001b[39m\u001b[34m(obj, skipkeys, ensure_ascii, check_circular, allow_nan, cls, indent, separators, default, sort_keys, **kw)\u001b[39m\n\u001b[32m    232\u001b[39m \u001b[38;5;28;01mif\u001b[39;00m \u001b[38;5;28mcls\u001b[39m \u001b[38;5;129;01mis\u001b[39;00m \u001b[38;5;28;01mNone\u001b[39;00m:\n\u001b[32m    233\u001b[39m     \u001b[38;5;28mcls\u001b[39m = JSONEncoder\n\u001b[32m    234\u001b[39m \u001b[38;5;28;01mreturn\u001b[39;00m \u001b[38;5;28;43mcls\u001b[39;49m\u001b[43m(\u001b[49m\n\u001b[32m    235\u001b[39m \u001b[43m    \u001b[49m\u001b[43mskipkeys\u001b[49m\u001b[43m=\u001b[49m\u001b[43mskipkeys\u001b[49m\u001b[43m,\u001b[49m\u001b[43m \u001b[49m\u001b[43mensure_ascii\u001b[49m\u001b[43m=\u001b[49m\u001b[43mensure_ascii\u001b[49m\u001b[43m,\u001b[49m\n\u001b[32m    236\u001b[39m \u001b[43m    \u001b[49m\u001b[43mcheck_circular\u001b[49m\u001b[43m=\u001b[49m\u001b[43mcheck_circular\u001b[49m\u001b[43m,\u001b[49m\u001b[43m \u001b[49m\u001b[43mallow_nan\u001b[49m\u001b[43m=\u001b[49m\u001b[43mallow_nan\u001b[49m\u001b[43m,\u001b[49m\u001b[43m \u001b[49m\u001b[43mindent\u001b[49m\u001b[43m=\u001b[49m\u001b[43mindent\u001b[49m\u001b[43m,\u001b[49m\n\u001b[32m    237\u001b[39m \u001b[43m    \u001b[49m\u001b[43mseparators\u001b[49m\u001b[43m=\u001b[49m\u001b[43mseparators\u001b[49m\u001b[43m,\u001b[49m\u001b[43m \u001b[49m\u001b[43mdefault\u001b[49m\u001b[43m=\u001b[49m\u001b[43mdefault\u001b[49m\u001b[43m,\u001b[49m\u001b[43m \u001b[49m\u001b[43msort_keys\u001b[49m\u001b[43m=\u001b[49m\u001b[43msort_keys\u001b[49m\u001b[43m,\u001b[49m\n\u001b[32m--> \u001b[39m\u001b[32m238\u001b[39m \u001b[43m    \u001b[49m\u001b[43m*\u001b[49m\u001b[43m*\u001b[49m\u001b[43mkw\u001b[49m\u001b[43m)\u001b[49m\u001b[43m.\u001b[49m\u001b[43mencode\u001b[49m\u001b[43m(\u001b[49m\u001b[43mobj\u001b[49m\u001b[43m)\u001b[49m\n",
      "\u001b[36mFile \u001b[39m\u001b[32m~\\AppData\\Local\\Programs\\Python\\Python312\\Lib\\json\\encoder.py:202\u001b[39m, in \u001b[36mJSONEncoder.encode\u001b[39m\u001b[34m(self, o)\u001b[39m\n\u001b[32m    200\u001b[39m chunks = \u001b[38;5;28mself\u001b[39m.iterencode(o, _one_shot=\u001b[38;5;28;01mTrue\u001b[39;00m)\n\u001b[32m    201\u001b[39m \u001b[38;5;28;01mif\u001b[39;00m \u001b[38;5;129;01mnot\u001b[39;00m \u001b[38;5;28misinstance\u001b[39m(chunks, (\u001b[38;5;28mlist\u001b[39m, \u001b[38;5;28mtuple\u001b[39m)):\n\u001b[32m--> \u001b[39m\u001b[32m202\u001b[39m     chunks = \u001b[38;5;28;43mlist\u001b[39;49m\u001b[43m(\u001b[49m\u001b[43mchunks\u001b[49m\u001b[43m)\u001b[49m\n\u001b[32m    203\u001b[39m \u001b[38;5;28;01mreturn\u001b[39;00m \u001b[33m'\u001b[39m\u001b[33m'\u001b[39m.join(chunks)\n",
      "\u001b[36mFile \u001b[39m\u001b[32m~\\AppData\\Local\\Programs\\Python\\Python312\\Lib\\json\\encoder.py:432\u001b[39m, in \u001b[36m_make_iterencode.<locals>._iterencode\u001b[39m\u001b[34m(o, _current_indent_level)\u001b[39m\n\u001b[32m    430\u001b[39m     \u001b[38;5;28;01myield from\u001b[39;00m _iterencode_list(o, _current_indent_level)\n\u001b[32m    431\u001b[39m \u001b[38;5;28;01melif\u001b[39;00m \u001b[38;5;28misinstance\u001b[39m(o, \u001b[38;5;28mdict\u001b[39m):\n\u001b[32m--> \u001b[39m\u001b[32m432\u001b[39m     \u001b[38;5;28;01myield from\u001b[39;00m _iterencode_dict(o, _current_indent_level)\n\u001b[32m    433\u001b[39m \u001b[38;5;28;01melse\u001b[39;00m:\n\u001b[32m    434\u001b[39m     \u001b[38;5;28;01mif\u001b[39;00m markers \u001b[38;5;129;01mis\u001b[39;00m \u001b[38;5;129;01mnot\u001b[39;00m \u001b[38;5;28;01mNone\u001b[39;00m:\n",
      "\u001b[36mFile \u001b[39m\u001b[32m~\\AppData\\Local\\Programs\\Python\\Python312\\Lib\\json\\encoder.py:406\u001b[39m, in \u001b[36m_make_iterencode.<locals>._iterencode_dict\u001b[39m\u001b[34m(dct, _current_indent_level)\u001b[39m\n\u001b[32m    404\u001b[39m         \u001b[38;5;28;01melse\u001b[39;00m:\n\u001b[32m    405\u001b[39m             chunks = _iterencode(value, _current_indent_level)\n\u001b[32m--> \u001b[39m\u001b[32m406\u001b[39m         \u001b[38;5;28;01myield from\u001b[39;00m chunks\n\u001b[32m    407\u001b[39m \u001b[38;5;28;01mif\u001b[39;00m newline_indent \u001b[38;5;129;01mis\u001b[39;00m \u001b[38;5;129;01mnot\u001b[39;00m \u001b[38;5;28;01mNone\u001b[39;00m:\n\u001b[32m    408\u001b[39m     _current_indent_level -= \u001b[32m1\u001b[39m\n",
      "\u001b[36mFile \u001b[39m\u001b[32m~\\AppData\\Local\\Programs\\Python\\Python312\\Lib\\json\\encoder.py:439\u001b[39m, in \u001b[36m_make_iterencode.<locals>._iterencode\u001b[39m\u001b[34m(o, _current_indent_level)\u001b[39m\n\u001b[32m    437\u001b[39m         \u001b[38;5;28;01mraise\u001b[39;00m \u001b[38;5;167;01mValueError\u001b[39;00m(\u001b[33m\"\u001b[39m\u001b[33mCircular reference detected\u001b[39m\u001b[33m\"\u001b[39m)\n\u001b[32m    438\u001b[39m     markers[markerid] = o\n\u001b[32m--> \u001b[39m\u001b[32m439\u001b[39m o = \u001b[43m_default\u001b[49m\u001b[43m(\u001b[49m\u001b[43mo\u001b[49m\u001b[43m)\u001b[49m\n\u001b[32m    440\u001b[39m \u001b[38;5;28;01myield from\u001b[39;00m _iterencode(o, _current_indent_level)\n\u001b[32m    441\u001b[39m \u001b[38;5;28;01mif\u001b[39;00m markers \u001b[38;5;129;01mis\u001b[39;00m \u001b[38;5;129;01mnot\u001b[39;00m \u001b[38;5;28;01mNone\u001b[39;00m:\n",
      "\u001b[36mFile \u001b[39m\u001b[32m~\\AppData\\Local\\Programs\\Python\\Python312\\Lib\\json\\encoder.py:180\u001b[39m, in \u001b[36mJSONEncoder.default\u001b[39m\u001b[34m(self, o)\u001b[39m\n\u001b[32m    161\u001b[39m \u001b[38;5;28;01mdef\u001b[39;00m\u001b[38;5;250m \u001b[39m\u001b[34mdefault\u001b[39m(\u001b[38;5;28mself\u001b[39m, o):\n\u001b[32m    162\u001b[39m \u001b[38;5;250m    \u001b[39m\u001b[33;03m\"\"\"Implement this method in a subclass such that it returns\u001b[39;00m\n\u001b[32m    163\u001b[39m \u001b[33;03m    a serializable object for ``o``, or calls the base implementation\u001b[39;00m\n\u001b[32m    164\u001b[39m \u001b[33;03m    (to raise a ``TypeError``).\u001b[39;00m\n\u001b[32m   (...)\u001b[39m\u001b[32m    178\u001b[39m \n\u001b[32m    179\u001b[39m \u001b[33;03m    \"\"\"\u001b[39;00m\n\u001b[32m--> \u001b[39m\u001b[32m180\u001b[39m     \u001b[38;5;28;01mraise\u001b[39;00m \u001b[38;5;167;01mTypeError\u001b[39;00m(\u001b[33mf\u001b[39m\u001b[33m'\u001b[39m\u001b[33mObject of type \u001b[39m\u001b[38;5;132;01m{\u001b[39;00mo.\u001b[34m__class__\u001b[39m.\u001b[34m__name__\u001b[39m\u001b[38;5;132;01m}\u001b[39;00m\u001b[33m \u001b[39m\u001b[33m'\u001b[39m\n\u001b[32m    181\u001b[39m                     \u001b[33mf\u001b[39m\u001b[33m'\u001b[39m\u001b[33mis not JSON serializable\u001b[39m\u001b[33m'\u001b[39m)\n",
      "\u001b[31mTypeError\u001b[39m: Object of type datetime is not JSON serializable"
     ]
    }
   ],
   "source": [
    "import json\n",
    "import os\n",
    "from datetime import datetime, timedelta, timezone\n",
    "from pymongo import MongoClient\n",
    "from dotenv import load_dotenv\n",
    "import uuid\n",
    "\n",
    "load_dotenv()\n",
    "\n",
    "# --- prior inventories doc (yesterday) ---\n",
    "previous_docs = [\n",
    "    {\n",
    "        \"id\": \"9f3a27e6-1b52-4e0b-bc6e-62c1f2a7c8b9\",\n",
    "        \"previous_form_qr_code\": \"20251011\",\n",
    "        \"current_form_qr_code\": \"20251012\",\n",
    "        \"date\": \"2025-10-12\",\n",
    "        \"location\": \"JEF Gas Station – Sikatuna Branch\",\n",
    "        \"tin\": \"123-456-789\",\n",
    "        \"branch\": \"JEF Biosciences Fuel Division\",\n",
    "        \"items\": [\n",
    "            {\"item_number\": \"1\", \"barcode\": \"4809992000101\", \"type\": \"fuel\", \"name\": \"Premium Gasoline\", \"price\": 69.5, \"unit\": \"liter\", \"previous_quantity\": 520, \"addstock\": 300, \"sold\": 250, \"current_quantity\": 570},\n",
    "            {\"item_number\": \"2\", \"barcode\": \"4809992000102\", \"type\": \"fuel\", \"name\": \"Regular Gasoline\", \"price\": 64.75, \"unit\": \"liter\", \"previous_quantity\": 680, \"addstock\": 400, \"sold\": 320, \"current_quantity\": 760},\n",
    "            {\"item_number\": \"3\", \"barcode\": \"4809992000103\", \"type\": \"fuel\", \"name\": \"Premium Diesel\", \"price\": 61.2, \"unit\": \"liter\", \"previous_quantity\": 450, \"addstock\": 350, \"sold\": 280, \"current_quantity\": 520},\n",
    "            {\"item_number\": \"4\", \"barcode\": \"4809992000201\", \"type\": \"lubricant\", \"name\": \"Engine Oil SAE 40\", \"price\": 250.0, \"unit\": \"liter\", \"previous_quantity\": 60, \"addstock\": 40, \"sold\": 25, \"current_quantity\": 75},\n",
    "            {\"item_number\": \"5\", \"barcode\": \"4809992000202\", \"type\": \"lubricant\", \"name\": \"Automatic Transmission Fluid (ATF)\", \"price\": 310.0, \"unit\": \"liter\", \"previous_quantity\": 50, \"addstock\": 30, \"sold\": 20, \"current_quantity\": 60},\n",
    "            {\"item_number\": \"6\", \"barcode\": \"4809992000203\", \"type\": \"lubricant\", \"name\": \"Gear Oil EP 90\", \"price\": 285.0, \"unit\": \"liter\", \"previous_quantity\": 45, \"addstock\": 25, \"sold\": 15, \"current_quantity\": 55},\n",
    "            {\"item_number\": \"7\", \"barcode\": \"4809992000204\", \"type\": \"lubricant\", \"name\": \"Hydraulic Oil ISO 68\", \"price\": 295.0, \"unit\": \"liter\", \"previous_quantity\": 35, \"addstock\": 25, \"sold\": 10, \"current_quantity\": 50},\n",
    "            {\"item_number\": \"8\", \"barcode\": \"4809992000205\", \"type\": \"lubricant\", \"name\": \"2T Motorcycle Oil\", \"price\": 180.0, \"unit\": \"liter\", \"previous_quantity\": 80, \"addstock\": 60, \"sold\": 45, \"current_quantity\": 95}\n",
    "        ]\n",
    "    }\n",
    "]\n",
    "\n",
    "prev = previous_docs[0]\n",
    "prev_date = datetime.strptime(prev[\"date\"], \"%Y-%m-%d\")\n",
    "new_date = (prev_date + timedelta(days=1)).strftime(\"%Y-%m-%d\")\n",
    "now = datetime.now(timezone.utc)\n",
    "\n",
    "def make_item(it):\n",
    "    return {\n",
    "        \"item_number\": it[\"item_number\"],  # copy same line number\n",
    "        \"id\": str(uuid.uuid4()),\n",
    "        \"created\": now,\n",
    "        \"updated\": now,\n",
    "        \"barcode\": it[\"barcode\"],\n",
    "        \"type\": it[\"type\"],\n",
    "        \"name\": it[\"name\"],\n",
    "        \"price\": it[\"price\"],\n",
    "        \"unit\": it[\"unit\"],\n",
    "        \"previous_quantity\": it[\"current_quantity\"],\n",
    "        \"addstock\": 0,\n",
    "        \"sold\": 0,\n",
    "        \"current_quantity\": 0\n",
    "    }\n",
    "\n",
    "new_doc = {\n",
    "    \"id\": str(uuid.uuid4()),\n",
    "    \"previous_form_qr_code\": prev[\"current_form_qr_code\"],\n",
    "    \"current_form_qr_code\": \"87654321\",\n",
    "    \"date\": new_date,\n",
    "    \"location\": prev[\"location\"],\n",
    "    \"tin\": prev[\"tin\"],\n",
    "    \"branch\": prev[\"branch\"],\n",
    "    \"created\": now,\n",
    "    \"items\": [make_item(it) for it in prev[\"items\"]],\n",
    "    \"is_empty\": True\n",
    "}\n",
    "\n",
    "# --- insert to MongoDB ---\n",
    "uri = os.getenv(\"MONGODB_URI\")\n",
    "database = os.getenv(\"MONGODB_DATABASE\")\n",
    "collection_name = \"inventories\"\n",
    "\n",
    "if uri and database:\n",
    "    client = MongoClient(uri)\n",
    "    coll = client[database][collection_name]\n",
    "    result = coll.insert_one(dict(new_doc))\n",
    "    print(f\"inserted_id: {str(result.inserted_id)}\")\n",
    "\n",
    "# Pretty print\n",
    "print(json.dumps(new_doc, ensure_ascii=False, indent=2))\n"
   ]
  }
 ],
 "metadata": {
  "kernelspec": {
   "display_name": ".venv",
   "language": "python",
   "name": "python3"
  },
  "language_info": {
   "codemirror_mode": {
    "name": "ipython",
    "version": 3
   },
   "file_extension": ".py",
   "mimetype": "text/x-python",
   "name": "python",
   "nbconvert_exporter": "python",
   "pygments_lexer": "ipython3",
   "version": "3.12.0"
  }
 },
 "nbformat": 4,
 "nbformat_minor": 5
}
