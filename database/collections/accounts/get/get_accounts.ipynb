{
 "cells": [
  {
   "cell_type": "code",
   "execution_count": 1,
   "id": "8faede02",
   "metadata": {},
   "outputs": [
    {
     "name": "stdout",
     "output_type": "stream",
     "text": [
      "[\n",
      "  {\n",
      "    \"id\": \"1\",\n",
      "    \"account_number\": 10001,\n",
      "    \"username\": \"sikatunajefgas\",\n",
      "    \"password\": \"securePass123\"\n",
      "  },\n",
      "  {\n",
      "    \"id\": \"2\",\n",
      "    \"account_number\": 10002,\n",
      "    \"username\": \"lobocjefgas\",\n",
      "    \"password\": \"mySecret456\"\n",
      "  }\n",
      "]\n"
     ]
    }
   ],
   "source": [
    "import json\n",
    "from pymongo import MongoClient\n",
    "import os\n",
    "from dotenv import load_dotenv\n",
    "\n",
    "# Load environment variables\n",
    "load_dotenv()\n",
    "\n",
    "# MongoDB connection\n",
    "uri = os.getenv(\"MONGODB_URI\")\n",
    "database = os.getenv(\"MONGODB_DATABASE\")\n",
    "collection = \"accounts\"\n",
    "\n",
    "client = MongoClient(uri)\n",
    "db = client[database]\n",
    "coll = db[collection]\n",
    "\n",
    "# Fetch all accounts\n",
    "accounts = list(coll.find({}, {\"_id\": 0}))  # exclude _id\n",
    "\n",
    "# Pretty print JSON\n",
    "print(json.dumps(accounts, indent=2))\n"
   ]
  }
 ],
 "metadata": {
  "kernelspec": {
   "display_name": ".venv",
   "language": "python",
   "name": "python3"
  },
  "language_info": {
   "codemirror_mode": {
    "name": "ipython",
    "version": 3
   },
   "file_extension": ".py",
   "mimetype": "text/x-python",
   "name": "python",
   "nbconvert_exporter": "python",
   "pygments_lexer": "ipython3",
   "version": "3.12.0"
  }
 },
 "nbformat": 4,
 "nbformat_minor": 5
}
