{
 "cells": [
  {
   "cell_type": "code",
   "execution_count": 1,
   "id": "9761a5f7",
   "metadata": {},
   "outputs": [
    {
     "name": "stdout",
     "output_type": "stream",
     "text": [
      "Deleted: 9\n"
     ]
    }
   ],
   "source": [
    "import os\n",
    "from pymongo import MongoClient\n",
    "\n",
    "try:\n",
    "    from dotenv import load_dotenv\n",
    "    load_dotenv()\n",
    "except:\n",
    "    pass\n",
    "\n",
    "uri = os.getenv(\"MONGODB_URI\", \"mongodb://localhost:27017\")\n",
    "database = os.getenv(\"MONGODB_DATABASE\", \"test\")\n",
    "\n",
    "client = MongoClient(uri)\n",
    "db = client[database]\n",
    "coll = db[\"addstocks\"]\n",
    "\n",
    "res = coll.delete_many({})\n",
    "print(\"Deleted:\", res.deleted_count)\n"
   ]
  }
 ],
 "metadata": {
  "kernelspec": {
   "display_name": ".venv",
   "language": "python",
   "name": "python3"
  },
  "language_info": {
   "codemirror_mode": {
    "name": "ipython",
    "version": 3
   },
   "file_extension": ".py",
   "mimetype": "text/x-python",
   "name": "python",
   "nbconvert_exporter": "python",
   "pygments_lexer": "ipython3",
   "version": "3.12.0"
  }
 },
 "nbformat": 4,
 "nbformat_minor": 5
}
