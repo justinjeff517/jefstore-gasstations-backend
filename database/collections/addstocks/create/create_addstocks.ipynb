{
 "cells": [
  {
   "cell_type": "code",
   "execution_count": 3,
   "id": "902da043",
   "metadata": {},
   "outputs": [
    {
     "name": "stdout",
     "output_type": "stream",
     "text": [
      "Inserted: 9\n"
     ]
    }
   ],
   "source": [
    "import os, json\n",
    "from uuid import uuid4\n",
    "from pymongo import MongoClient\n",
    "from bson import json_util\n",
    "\n",
    "try:\n",
    "    from dotenv import load_dotenv\n",
    "    load_dotenv()\n",
    "except:\n",
    "    pass\n",
    "\n",
    "uri = os.getenv(\"MONGODB_URI\", \"mongodb://localhost:27017\")\n",
    "database = os.getenv(\"MONGODB_DATABASE\", \"test\")\n",
    "\n",
    "client = MongoClient(uri)\n",
    "db = client[database]\n",
    "coll = db[\"addstocks\"]\n",
    "\n",
    "with open(\"data.json\", \"r\", encoding=\"utf-8\") as f:\n",
    "    data = json_util.loads(f.read())\n",
    "\n",
    "docs = data if isinstance(data, list) else [data]\n",
    "docs = [{**d, \"id\": d.get(\"id\") or str(uuid4())} for d in docs]\n",
    "\n",
    "res = coll.insert_many(docs)\n",
    "print(\"Inserted:\", len(res.inserted_ids))\n"
   ]
  }
 ],
 "metadata": {
  "kernelspec": {
   "display_name": ".venv",
   "language": "python",
   "name": "python3"
  },
  "language_info": {
   "codemirror_mode": {
    "name": "ipython",
    "version": 3
   },
   "file_extension": ".py",
   "mimetype": "text/x-python",
   "name": "python",
   "nbconvert_exporter": "python",
   "pygments_lexer": "ipython3",
   "version": "3.12.0"
  }
 },
 "nbformat": 4,
 "nbformat_minor": 5
}
