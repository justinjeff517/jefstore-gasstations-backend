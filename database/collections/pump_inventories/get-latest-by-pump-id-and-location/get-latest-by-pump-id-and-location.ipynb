{
 "cells": [
  {
   "cell_type": "code",
   "execution_count": 4,
   "id": "6017ae32",
   "metadata": {},
   "outputs": [
    {
     "name": "stdout",
     "output_type": "stream",
     "text": [
      "{\n",
      "  \"id\": \"d8f37a79-c974-45be-b7ad-0736177f1d11\",\n",
      "  \"created_at\": \"2025-09-27 19:26:35.056000\",\n",
      "  \"location\": \"loboc\",\n",
      "  \"date\": \"2025-09-27 16:00:00\",\n",
      "  \"dispenser_name\": \"dispenser-four\",\n",
      "  \"pump_id\": \"8\",\n",
      "  \"pump_name\": \"diesel\",\n",
      "  \"product\": \"diesel\",\n",
      "  \"unit\": \"liter\",\n",
      "  \"price\": \"58.00\",\n",
      "  \"beginning_inventory\": \"5000.00\",\n",
      "  \"calibration\": \"0.00\",\n",
      "  \"po\": \"0.00\",\n",
      "  \"cash\": \"0.00\",\n",
      "  \"ending_inventory\": \"5000.00\",\n",
      "  \"starting_liter_meter\": \"45398.00\",\n",
      "  \"ending_liter_meter\": \"45398.00\"\n",
      "}\n"
     ]
    }
   ],
   "source": [
    "import os, json\n",
    "from pymongo import MongoClient\n",
    "from dotenv import load_dotenv\n",
    "\n",
    "load_dotenv()\n",
    "client = MongoClient(os.getenv(\"MONGODB_URI\"))\n",
    "db = client[os.getenv(\"MONGODB_DATABASE\")]\n",
    "coll = db[\"pump_inventories\"]\n",
    "\n",
    "location = \"loboc\"\n",
    "pump_id = \"8\"\n",
    "\n",
    "doc = coll.find_one(\n",
    "    {\"location\": location, \"pump_id\": pump_id},\n",
    "    {\"_id\": 0},\n",
    "    sort=[(\"date\", -1), (\"created_at\", -1)],\n",
    ")\n",
    "\n",
    "print(json.dumps(doc or {}, indent=2, ensure_ascii=False, default=str))\n"
   ]
  }
 ],
 "metadata": {
  "kernelspec": {
   "display_name": ".venv",
   "language": "python",
   "name": "python3"
  },
  "language_info": {
   "codemirror_mode": {
    "name": "ipython",
    "version": 3
   },
   "file_extension": ".py",
   "mimetype": "text/x-python",
   "name": "python",
   "nbconvert_exporter": "python",
   "pygments_lexer": "ipython3",
   "version": "3.12.0"
  }
 },
 "nbformat": 4,
 "nbformat_minor": 5
}
