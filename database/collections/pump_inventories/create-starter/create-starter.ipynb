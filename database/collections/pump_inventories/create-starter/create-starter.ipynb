{
 "cells": [
  {
   "cell_type": "code",
   "execution_count": 1,
   "id": "3cf57887",
   "metadata": {},
   "outputs": [
    {
     "data": {
      "text/plain": [
       "4"
      ]
     },
     "execution_count": 1,
     "metadata": {},
     "output_type": "execute_result"
    }
   ],
   "source": [
    "import os, random, uuid, datetime\n",
    "from decimal import Decimal, ROUND_HALF_UP\n",
    "from pymongo import MongoClient\n",
    "from bson.decimal128 import Decimal128\n",
    "\n",
    "PH_TZ = datetime.timezone(datetime.timedelta(hours=8))\n",
    "\n",
    "mongo_uri = os.getenv(\"MONGODB_URI\")\n",
    "db_name = os.getenv(\"MONGODB_DATABASE\")\n",
    "client = MongoClient(mongo_uri, tz_aware=True)\n",
    "db = client[db_name]\n",
    "col = db[\"pump_inventories\"]\n",
    "\n",
    "loboc_map = [\n",
    "  {\"dispenser_id\": 3, \"dispenser_name\": \"dispenser-three\", \"pump_id\": \"5\", \"product\": \"regular\", \"location\": \"loboc\"},\n",
    "  {\"dispenser_id\": 3, \"dispenser_name\": \"dispenser-three\", \"pump_id\": \"6\", \"product\": \"diesel\",  \"location\": \"loboc\"},\n",
    "  {\"dispenser_id\": 4, \"dispenser_name\": \"dispenser-four\",  \"pump_id\": \"7\", \"product\": \"regular\", \"location\": \"loboc\"},\n",
    "  {\"dispenser_id\": 4, \"dispenser_name\": \"dispenser-four\",  \"pump_id\": \"8\", \"product\": \"diesel\",  \"location\": \"loboc\"},\n",
    "]\n",
    "\n",
    "prices = {\"regular\": Decimal(\"62.50\"), \"diesel\": Decimal(\"58.00\")}\n",
    "unit = \"liter\"\n",
    "\n",
    "def ph_start_to_utc(d):\n",
    "    dt_ph = datetime.datetime(d.year, d.month, d.day, 0, 0, 0, tzinfo=PH_TZ)\n",
    "    return dt_ph.astimezone(datetime.timezone.utc)\n",
    "\n",
    "def as_dec128(x):\n",
    "    return Decimal128(Decimal(x).quantize(Decimal(\"0.01\"), rounding=ROUND_HALF_UP))\n",
    "\n",
    "date_ph = datetime.date(2025, 9, 28)\n",
    "\n",
    "random.seed(20250928)\n",
    "docs = []\n",
    "for m in loboc_map:\n",
    "    meter_start = Decimal(str(random.randint(20000, 50000)))\n",
    "    doc = {\n",
    "        \"id\": str(uuid.uuid4()),\n",
    "        \"created_at\": datetime.datetime.now(datetime.timezone.utc),\n",
    "        \"location\": m[\"location\"],\n",
    "        \"date\": ph_start_to_utc(date_ph),\n",
    "        \"dispenser_name\": m[\"dispenser_name\"],\n",
    "        \"pump_id\": str(m[\"pump_id\"]),\n",
    "        \"pump_name\": m[\"product\"],\n",
    "        \"product\": m[\"product\"],\n",
    "        \"unit\": unit,\n",
    "        \"price\": as_dec128(prices[m[\"product\"]]),\n",
    "        \"beginning_inventory\": as_dec128(\"5000\"),\n",
    "        \"calibration\": as_dec128(\"0\"),\n",
    "        \"po\": as_dec128(\"0\"),\n",
    "        \"cash\": as_dec128(\"0\"),\n",
    "        \"ending_inventory\": as_dec128(\"5000\"),\n",
    "        \"starting_liter_meter\": as_dec128(meter_start),\n",
    "        \"ending_liter_meter\": as_dec128(meter_start),\n",
    "    }\n",
    "    docs.append(doc)\n",
    "\n",
    "if docs:\n",
    "    col.insert_many(docs)\n",
    "\n",
    "len(docs)\n"
   ]
  }
 ],
 "metadata": {
  "kernelspec": {
   "display_name": ".venv",
   "language": "python",
   "name": "python3"
  },
  "language_info": {
   "codemirror_mode": {
    "name": "ipython",
    "version": 3
   },
   "file_extension": ".py",
   "mimetype": "text/x-python",
   "name": "python",
   "nbconvert_exporter": "python",
   "pygments_lexer": "ipython3",
   "version": "3.12.0"
  }
 },
 "nbformat": 4,
 "nbformat_minor": 5
}
