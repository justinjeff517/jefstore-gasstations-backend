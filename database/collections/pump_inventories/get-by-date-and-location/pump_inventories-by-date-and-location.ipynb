{
 "cells": [
  {
   "cell_type": "code",
   "execution_count": 1,
   "id": "150adcaf",
   "metadata": {},
   "outputs": [
    {
     "name": "stdout",
     "output_type": "stream",
     "text": [
      "{'id': 'e85f1091-977d-42c0-a415-9688f220a586', 'created_at': datetime.datetime(2025, 9, 27, 18, 40, 25, 678000, tzinfo=<bson.tz_util.FixedOffset object at 0x000001582CEF7A10>), 'location': 'loboc', 'date': datetime.datetime(2025, 9, 27, 16, 0, tzinfo=<bson.tz_util.FixedOffset object at 0x000001582CEF7A10>), 'dispenser_name': 'dispenser-three', 'pump_name': 'regular', 'product': 'regular', 'unit': 'liter', 'price': Decimal128('62.50'), 'beginning_inventory': Decimal128('84.00'), 'calibration': Decimal128('30.00'), 'po': Decimal128('1009.00'), 'cash': Decimal128('14812.50'), 'ending_inventory': Decimal128('886.00'), 'starting_liter_meter': Decimal128('34101.00'), 'ending_liter_meter': Decimal128('34338.00')}\n",
      "{'id': 'a37eddc1-46ea-47e1-86cd-21702a593d2c', 'created_at': datetime.datetime(2025, 9, 27, 18, 40, 25, 678000, tzinfo=<bson.tz_util.FixedOffset object at 0x000001582CEF7A10>), 'location': 'loboc', 'date': datetime.datetime(2025, 9, 27, 16, 0, tzinfo=<bson.tz_util.FixedOffset object at 0x000001582CEF7A10>), 'dispenser_name': 'dispenser-three', 'pump_name': 'diesel', 'product': 'diesel', 'unit': 'liter', 'price': Decimal128('58.00'), 'beginning_inventory': Decimal128('856.00'), 'calibration': Decimal128('30.00'), 'po': Decimal128('0.00'), 'cash': Decimal128('16066.00'), 'ending_inventory': Decimal128('609.00'), 'starting_liter_meter': Decimal128('51968.00'), 'ending_liter_meter': Decimal128('52245.00')}\n",
      "{'id': 'a67448bb-766b-48d4-b1be-7eb265009232', 'created_at': datetime.datetime(2025, 9, 27, 18, 40, 25, 678000, tzinfo=<bson.tz_util.FixedOffset object at 0x000001582CEF7A10>), 'location': 'loboc', 'date': datetime.datetime(2025, 9, 27, 16, 0, tzinfo=<bson.tz_util.FixedOffset object at 0x000001582CEF7A10>), 'dispenser_name': 'dispenser-four', 'pump_name': 'regular', 'product': 'regular', 'unit': 'liter', 'price': Decimal128('62.50'), 'beginning_inventory': Decimal128('113.00'), 'calibration': Decimal128('30.00'), 'po': Decimal128('529.00'), 'cash': Decimal128('38437.50'), 'ending_inventory': Decimal128('57.00'), 'starting_liter_meter': Decimal128('57430.00'), 'ending_liter_meter': Decimal128('58045.00')}\n",
      "{'id': '66247643-5999-45b5-965f-fa98c14ce41c', 'created_at': datetime.datetime(2025, 9, 27, 18, 40, 25, 678000, tzinfo=<bson.tz_util.FixedOffset object at 0x000001582CEF7A10>), 'location': 'loboc', 'date': datetime.datetime(2025, 9, 27, 16, 0, tzinfo=<bson.tz_util.FixedOffset object at 0x000001582CEF7A10>), 'dispenser_name': 'dispenser-four', 'pump_name': 'diesel', 'product': 'diesel', 'unit': 'liter', 'price': Decimal128('58.00'), 'beginning_inventory': Decimal128('905.00'), 'calibration': Decimal128('30.00'), 'po': Decimal128('0.00'), 'cash': Decimal128('30044.00'), 'ending_inventory': Decimal128('417.00'), 'starting_liter_meter': Decimal128('46704.00'), 'ending_liter_meter': Decimal128('47222.00')}\n"
     ]
    }
   ],
   "source": [
    "import os, datetime\n",
    "from pymongo import MongoClient\n",
    "from dotenv import load_dotenv\n",
    "\n",
    "load_dotenv()\n",
    "\n",
    "PH_TZ = datetime.timezone(datetime.timedelta(hours=8))\n",
    "mongo_uri = os.getenv(\"MONGODB_URI\")\n",
    "db_name = os.getenv(\"MONGODB_DATABASE\")\n",
    "\n",
    "client = MongoClient(mongo_uri, tz_aware=True)\n",
    "db = client[db_name]\n",
    "col = db[\"pump_inventories\"]\n",
    "\n",
    "def get_pump_inventories_by_date(date_str: str):\n",
    "    # Parse YYYY-MM-DD as PH local midnight\n",
    "    y, m, d = map(int, date_str.split(\"-\"))\n",
    "    dt_ph = datetime.datetime(y, m, d, 0, 0, 0, tzinfo=PH_TZ)\n",
    "    start_utc = dt_ph.astimezone(datetime.timezone.utc)\n",
    "    end_utc = (dt_ph + datetime.timedelta(days=1)).astimezone(datetime.timezone.utc)\n",
    "\n",
    "    docs = list(col.find(\n",
    "        {\n",
    "            \"date\": {\"$gte\": start_utc, \"$lt\": end_utc},\n",
    "            \"location\": \"loboc\"\n",
    "        },\n",
    "        {\"_id\": 0}\n",
    "    ))\n",
    "    return docs\n",
    "\n",
    "# Example usage\n",
    "results = get_pump_inventories_by_date(\"2025-09-28\")\n",
    "for r in results:\n",
    "    print(r)\n"
   ]
  }
 ],
 "metadata": {
  "kernelspec": {
   "display_name": ".venv",
   "language": "python",
   "name": "python3"
  },
  "language_info": {
   "codemirror_mode": {
    "name": "ipython",
    "version": 3
   },
   "file_extension": ".py",
   "mimetype": "text/x-python",
   "name": "python",
   "nbconvert_exporter": "python",
   "pygments_lexer": "ipython3",
   "version": "3.12.0"
  }
 },
 "nbformat": 4,
 "nbformat_minor": 5
}
