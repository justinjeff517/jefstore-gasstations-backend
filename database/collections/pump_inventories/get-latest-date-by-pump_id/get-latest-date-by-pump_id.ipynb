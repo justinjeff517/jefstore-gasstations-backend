{
 "cells": [
  {
   "cell_type": "code",
   "execution_count": 9,
   "id": "5708c45d",
   "metadata": {},
   "outputs": [
    {
     "name": "stdout",
     "output_type": "stream",
     "text": [
      "{\n",
      "  \"id\": \"9ffc1d76-c0b8-412c-ad40-7ccccc4d6660\",\n",
      "  \"created_at\": \"2025-09-27 19:26:35.056000+00:00\",\n",
      "  \"location\": \"loboc\",\n",
      "  \"date\": \"2025-09-27 16:00:00+00:00\",\n",
      "  \"dispenser_name\": \"dispenser-three\",\n",
      "  \"pump_id\": \"5\",\n",
      "  \"pump_name\": \"regular\",\n",
      "  \"product\": \"regular\",\n",
      "  \"unit\": \"liter\",\n",
      "  \"price\": \"62.50\",\n",
      "  \"beginning_inventory\": \"5000.00\",\n",
      "  \"calibration\": \"0.00\",\n",
      "  \"po\": \"0.00\",\n",
      "  \"cash\": \"0.00\",\n",
      "  \"ending_inventory\": \"5000.00\",\n",
      "  \"starting_liter_meter\": \"30039.00\",\n",
      "  \"ending_liter_meter\": \"30039.00\"\n",
      "}\n"
     ]
    }
   ],
   "source": [
    "import os, datetime, json\n",
    "from pymongo import MongoClient\n",
    "from dotenv import load_dotenv\n",
    "\n",
    "load_dotenv()\n",
    "\n",
    "mongo_uri = os.getenv(\"MONGODB_URI\")\n",
    "db_name = os.getenv(\"MONGODB_DATABASE\")\n",
    "\n",
    "client = MongoClient(mongo_uri, tz_aware=True)\n",
    "db = client[db_name]\n",
    "col = db[\"pump_inventories\"]\n",
    "\n",
    "def get_latest_pump_inventory(pump_id: str):\n",
    "    doc = col.find_one(\n",
    "        {\"pump_id\": str(pump_id)},        # ✅ match pump_id instead of id\n",
    "        {\"_id\": 0},                       # exclude _id\n",
    "        sort=[(\"date\", -1)]               # sort by date descending (latest first)\n",
    "    )\n",
    "    return doc\n",
    "\n",
    "# Example usage\n",
    "pump_id = \"5\"\n",
    "latest = get_latest_pump_inventory(pump_id)\n",
    "print(json.dumps(latest, indent=2, ensure_ascii=False, default=str))\n"
   ]
  }
 ],
 "metadata": {
  "kernelspec": {
   "display_name": ".venv",
   "language": "python",
   "name": "python3"
  },
  "language_info": {
   "codemirror_mode": {
    "name": "ipython",
    "version": 3
   },
   "file_extension": ".py",
   "mimetype": "text/x-python",
   "name": "python",
   "nbconvert_exporter": "python",
   "pygments_lexer": "ipython3",
   "version": "3.12.0"
  }
 },
 "nbformat": 4,
 "nbformat_minor": 5
}
