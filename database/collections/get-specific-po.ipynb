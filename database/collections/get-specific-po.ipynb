{
 "cells": [
  {
   "cell_type": "code",
   "execution_count": 4,
   "id": "5b05484a",
   "metadata": {},
   "outputs": [
    {
     "name": "stdout",
     "output_type": "stream",
     "text": [
      "📌 Purchase Order 1234:\n",
      "{'_id': ObjectId('68c860fe288ad408dd3c9975'),\n",
      " 'created': '2025-09-16T02:54:54+08:00',\n",
      " 'date': '2025-09-16',\n",
      " 'driver': 'Juanito',\n",
      " 'id': '0ba2b03e-e0c2-485c-9c07-cd45465c241f',\n",
      " 'plate_number': 'MAA-125',\n",
      " 'po_number': '1234',\n",
      " 'product': 'diesel',\n",
      " 'quantity_liters': 20.0,\n",
      " 'route': 'Loboc'}\n"
     ]
    }
   ],
   "source": [
    "from pymongo import MongoClient\n",
    "from dotenv import load_dotenv\n",
    "import os\n",
    "import pprint\n",
    "\n",
    "# Load .env and connect\n",
    "load_dotenv()\n",
    "client = MongoClient(os.getenv(\"MONGODB_URI\"))\n",
    "\n",
    "db = client['jef-erp-database']\n",
    "collection = db[\"purchase_orders\"]\n",
    "\n",
    "# Replace with the po_number you want to search\n",
    "po_number = \"1234\"\n",
    "\n",
    "doc = collection.find_one({\"po_number\": po_number})\n",
    "\n",
    "if doc:\n",
    "    print(f\"📌 Purchase Order {po_number}:\")\n",
    "    pprint.pprint(doc)\n",
    "else:\n",
    "    print(f\"No purchase order found with po_number={po_number}\")\n"
   ]
  }
 ],
 "metadata": {
  "kernelspec": {
   "display_name": ".venv",
   "language": "python",
   "name": "python3"
  },
  "language_info": {
   "codemirror_mode": {
    "name": "ipython",
    "version": 3
   },
   "file_extension": ".py",
   "mimetype": "text/x-python",
   "name": "python",
   "nbconvert_exporter": "python",
   "pygments_lexer": "ipython3",
   "version": "3.12.0"
  }
 },
 "nbformat": 4,
 "nbformat_minor": 5
}
