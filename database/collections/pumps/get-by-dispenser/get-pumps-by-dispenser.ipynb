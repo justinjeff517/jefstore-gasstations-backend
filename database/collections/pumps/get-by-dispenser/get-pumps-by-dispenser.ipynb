{
 "cells": [
  {
   "cell_type": "code",
   "execution_count": 1,
   "id": "9aaa6e70",
   "metadata": {},
   "outputs": [
    {
     "name": "stdout",
     "output_type": "stream",
     "text": [
      "[\n",
      "  {\n",
      "    \"id\": 7,\n",
      "    \"dispenser_id\": 4,\n",
      "    \"dispenser_name\": \"dispenser-four\",\n",
      "    \"name\": \"regular\",\n",
      "    \"location\": \"loboc\"\n",
      "  },\n",
      "  {\n",
      "    \"id\": 8,\n",
      "    \"dispenser_id\": 4,\n",
      "    \"dispenser_name\": \"dispenser-four\",\n",
      "    \"name\": \"diesel\",\n",
      "    \"location\": \"loboc\"\n",
      "  }\n",
      "]\n"
     ]
    }
   ],
   "source": [
    "import os, json\n",
    "from pymongo import MongoClient\n",
    "from dotenv import load_dotenv\n",
    "\n",
    "# Load environment variables\n",
    "load_dotenv()\n",
    "uri = os.getenv(\"MONGODB_URI\")\n",
    "database = os.getenv(\"MONGODB_DATABASE\")\n",
    "\n",
    "# Connect to MongoDB\n",
    "client = MongoClient(uri)\n",
    "db = client[database]\n",
    "coll = db[\"pumps\"]\n",
    "\n",
    "# --- Parameters ---\n",
    "dispenser_name = \"dispenser-four\"   # change as needed\n",
    "dispenser_id = 4                   # change as needed\n",
    "\n",
    "# --- Query ---\n",
    "query = {\"dispenser_name\": dispenser_name, \"dispenser_id\": dispenser_id}\n",
    "docs = list(coll.find(query, {\"_id\": 0}))  # exclude MongoDB _id\n",
    "\n",
    "# --- Pretty Print ---\n",
    "print(json.dumps(docs, indent=2, ensure_ascii=False))\n"
   ]
  }
 ],
 "metadata": {
  "kernelspec": {
   "display_name": ".venv",
   "language": "python",
   "name": "python3"
  },
  "language_info": {
   "codemirror_mode": {
    "name": "ipython",
    "version": 3
   },
   "file_extension": ".py",
   "mimetype": "text/x-python",
   "name": "python",
   "nbconvert_exporter": "python",
   "pygments_lexer": "ipython3",
   "version": "3.12.0"
  }
 },
 "nbformat": 4,
 "nbformat_minor": 5
}
