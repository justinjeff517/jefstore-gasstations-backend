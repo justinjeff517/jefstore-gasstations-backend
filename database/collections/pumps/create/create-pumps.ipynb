{
 "cells": [
  {
   "cell_type": "code",
   "execution_count": 1,
   "id": "8b551a1c",
   "metadata": {},
   "outputs": [
    {
     "name": "stdout",
     "output_type": "stream",
     "text": [
      "Data inserted successfully.\n"
     ]
    }
   ],
   "source": [
    "import json\n",
    "from pymongo import MongoClient\n",
    "import os\n",
    "from dotenv import load_dotenv\n",
    "load_dotenv()\n",
    "# MongoDB connection (change URI as needed)\n",
    "uri = os.getenv(\"MONGODB_URI\")\n",
    "database = os.getenv(\"MONGODB_DATABASE\")\n",
    "collection = \"pumps\"\n",
    "client = MongoClient(uri)\n",
    "\n",
    "# Select database and collection\n",
    "db = client[database]\n",
    "collection = db[collection]\n",
    "\n",
    "# Load JSON file\n",
    "with open(\"data.json\", \"r\", encoding=\"utf-8\") as f:\n",
    "    data = json.load(f)\n",
    "\n",
    "# Insert into collection\n",
    "if isinstance(data, list):\n",
    "    collection.insert_many(data)   # If JSON is an array\n",
    "else:\n",
    "    collection.insert_one(data)    # If JSON is a single document\n",
    "\n",
    "print(\"Data inserted successfully.\")\n"
   ]
  }
 ],
 "metadata": {
  "kernelspec": {
   "display_name": ".venv",
   "language": "python",
   "name": "python3"
  },
  "language_info": {
   "codemirror_mode": {
    "name": "ipython",
    "version": 3
   },
   "file_extension": ".py",
   "mimetype": "text/x-python",
   "name": "python",
   "nbconvert_exporter": "python",
   "pygments_lexer": "ipython3",
   "version": "3.12.0"
  }
 },
 "nbformat": 4,
 "nbformat_minor": 5
}
