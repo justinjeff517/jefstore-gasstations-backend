{
 "cells": [
  {
   "cell_type": "code",
   "execution_count": 2,
   "id": "5455b645",
   "metadata": {},
   "outputs": [
    {
     "name": "stdout",
     "output_type": "stream",
     "text": [
      "[\n",
      "  {\n",
      "    \"name\": \"sikatuna-premium\",\n",
      "    \"id\": \"1\",\n",
      "    \"location\": \"sikatuna\",\n",
      "    \"max_capacity\": 6000,\n",
      "    \"product\": \"premium\"\n",
      "  },\n",
      "  {\n",
      "    \"name\": \"sikatuna-regular\",\n",
      "    \"id\": \"2\",\n",
      "    \"location\": \"sikatuna\",\n",
      "    \"max_capacity\": 10000,\n",
      "    \"product\": \"regular\"\n",
      "  },\n",
      "  {\n",
      "    \"name\": \"sikatuna-diesel\",\n",
      "    \"id\": \"3\",\n",
      "    \"location\": \"sikatuna\",\n",
      "    \"max_capacity\": 10000,\n",
      "    \"product\": \"diesel\"\n",
      "  },\n",
      "  {\n",
      "    \"name\": \"loboc-regular\",\n",
      "    \"id\": \"4\",\n",
      "    \"location\": \"loboc\",\n",
      "    \"max_capacity\": 10000,\n",
      "    \"product\": \"regular\"\n",
      "  },\n",
      "  {\n",
      "    \"name\": \"loboc-diesel\",\n",
      "    \"id\": \"5\",\n",
      "    \"location\": \"loboc\",\n",
      "    \"max_capacity\": 10000,\n",
      "    \"product\": \"diesel\"\n",
      "  }\n",
      "]\n"
     ]
    }
   ],
   "source": [
    "import os, json\n",
    "from pymongo import MongoClient\n",
    "from dotenv import load_dotenv\n",
    "\n",
    "load_dotenv()\n",
    "client = MongoClient(os.getenv(\"MONGODB_URI\"))\n",
    "db = client[os.getenv(\"MONGODB_DATABASE\")]\n",
    "col = db[\"tanks\"]\n",
    "\n",
    "docs = list(col.find({}, {\"_id\": 0}))\n",
    "print(json.dumps(docs, indent=2, ensure_ascii=False))\n"
   ]
  }
 ],
 "metadata": {
  "kernelspec": {
   "display_name": ".venv",
   "language": "python",
   "name": "python3"
  },
  "language_info": {
   "codemirror_mode": {
    "name": "ipython",
    "version": 3
   },
   "file_extension": ".py",
   "mimetype": "text/x-python",
   "name": "python",
   "nbconvert_exporter": "python",
   "pygments_lexer": "ipython3",
   "version": "3.12.0"
  }
 },
 "nbformat": 4,
 "nbformat_minor": 5
}
