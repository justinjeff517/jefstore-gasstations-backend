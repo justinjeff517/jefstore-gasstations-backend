{
 "cells": [
  {
   "cell_type": "code",
   "execution_count": 1,
   "id": "81697c21",
   "metadata": {},
   "outputs": [
    {
     "name": "stdout",
     "output_type": "stream",
     "text": [
      "Upserted 5 docs into 'tanks'\n"
     ]
    }
   ],
   "source": [
    "import os, json\n",
    "from pymongo import MongoClient\n",
    "from dotenv import load_dotenv\n",
    "\n",
    "load_dotenv()\n",
    "client = MongoClient(os.getenv(\"MONGODB_URI\"))\n",
    "db = client[os.getenv(\"MONGODB_DATABASE\")]\n",
    "col = db[\"tanks\"]\n",
    "\n",
    "with open(\"data.json\", \"r\", encoding=\"utf-8\") as f:\n",
    "    docs = json.load(f)\n",
    "\n",
    "for d in docs:\n",
    "    col.update_one({\"name\": d[\"name\"]}, {\"$set\": d}, upsert=True)\n",
    "\n",
    "print(\"Upserted\", len(docs), \"docs into 'tanks'\")\n"
   ]
  }
 ],
 "metadata": {
  "kernelspec": {
   "display_name": ".venv",
   "language": "python",
   "name": "python3"
  },
  "language_info": {
   "codemirror_mode": {
    "name": "ipython",
    "version": 3
   },
   "file_extension": ".py",
   "mimetype": "text/x-python",
   "name": "python",
   "nbconvert_exporter": "python",
   "pygments_lexer": "ipython3",
   "version": "3.12.0"
  }
 },
 "nbformat": 4,
 "nbformat_minor": 5
}
