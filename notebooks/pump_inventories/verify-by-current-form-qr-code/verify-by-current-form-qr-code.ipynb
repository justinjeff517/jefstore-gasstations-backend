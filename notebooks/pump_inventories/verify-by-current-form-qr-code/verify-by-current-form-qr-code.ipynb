{
 "cells": [
  {
   "cell_type": "code",
   "execution_count": 4,
   "id": "09f1de5d",
   "metadata": {},
   "outputs": [
    {
     "name": "stdout",
     "output_type": "stream",
     "text": [
      "{\n",
      "  \"current_form_qr_code\": \"11458999\",\n",
      "  \"exists\": false,\n",
      "  \"previous_present_for_same_pump\": null,\n",
      "  \"details\": \"no document with this current_form_qr_code\"\n",
      "}\n"
     ]
    }
   ],
   "source": [
    "import os, json\n",
    "from dotenv import load_dotenv\n",
    "from pymongo import MongoClient\n",
    "from bson import json_util\n",
    "\n",
    "load_dotenv()\n",
    "uri = os.getenv(\"MONGODB_URI\")\n",
    "database = os.getenv(\"MONGODB_DATABASE\")\n",
    "\n",
    "client = MongoClient(uri, tz_aware=True)\n",
    "coll = client[database][\"pump_inventories\"]\n",
    "\n",
    "def verify_qr_chain(code: str):\n",
    "    doc = coll.find_one({\"current_form_qr_code\": code})\n",
    "    if not doc:\n",
    "        return {\"current_form_qr_code\": code, \"exists\": False, \"previous_present_for_same_pump\": None, \"details\": \"no document with this current_form_qr_code\"}\n",
    "    prev = (doc.get(\"previous_form_qr_code\") or \"\").strip()\n",
    "    if not prev:\n",
    "        return {\"current_form_qr_code\": code, \"exists\": True, \"previous_present_for_same_pump\": False, \"details\": \"document has empty previous_form_qr_code\"}\n",
    "    prev_doc = coll.find_one({\n",
    "        \"current_form_qr_code\": prev,\n",
    "        \"location\": doc.get(\"location\"),\n",
    "        \"dispenser_name\": doc.get(\"dispenser_name\"),\n",
    "        \"pump_id\": doc.get(\"pump_id\")\n",
    "    })\n",
    "    return {\n",
    "        \"current_form_qr_code\": code,\n",
    "        \"exists\": True,\n",
    "        \"previous_present_for_same_pump\": bool(prev_doc),\n",
    "        \"previous_form_qr_code\": prev,\n",
    "        \"doc_brief\": {\n",
    "            \"id\": doc.get(\"id\"),\n",
    "            \"location\": doc.get(\"location\"),\n",
    "            \"dispenser_name\": doc.get(\"dispenser_name\"),\n",
    "            \"pump_id\": doc.get(\"pump_id\"),\n",
    "            \"date\": doc.get(\"date\")\n",
    "        },\n",
    "        \"previous_doc_brief\": None if not prev_doc else {\n",
    "            \"id\": prev_doc.get(\"id\"),\n",
    "            \"current_form_qr_code\": prev_doc.get(\"current_form_qr_code\"),\n",
    "            \"location\": prev_doc.get(\"location\"),\n",
    "            \"dispenser_name\": prev_doc.get(\"dispenser_name\"),\n",
    "            \"pump_id\": prev_doc.get(\"pump_id\"),\n",
    "            \"date\": prev_doc.get(\"date\")\n",
    "        }\n",
    "    }\n",
    "\n",
    "current_code = \"11458999\"\n",
    "result = verify_qr_chain(current_code)\n",
    "print(json.dumps(result, default=json_util.default, ensure_ascii=False, indent=2))\n"
   ]
  },
  {
   "cell_type": "code",
   "execution_count": null,
   "id": "22f593d2",
   "metadata": {},
   "outputs": [],
   "source": []
  }
 ],
 "metadata": {
  "kernelspec": {
   "display_name": ".venv",
   "language": "python",
   "name": "python3"
  },
  "language_info": {
   "codemirror_mode": {
    "name": "ipython",
    "version": 3
   },
   "file_extension": ".py",
   "mimetype": "text/x-python",
   "name": "python",
   "nbconvert_exporter": "python",
   "pygments_lexer": "ipython3",
   "version": "3.12.0"
  }
 },
 "nbformat": 4,
 "nbformat_minor": 5
}
