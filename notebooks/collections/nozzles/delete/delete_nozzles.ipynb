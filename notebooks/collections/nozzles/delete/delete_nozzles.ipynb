{
 "cells": [
  {
   "cell_type": "code",
   "execution_count": 1,
   "id": "33591f79",
   "metadata": {},
   "outputs": [
    {
     "name": "stdout",
     "output_type": "stream",
     "text": [
      "Deleted 8 documents from 'nozzles'.\n"
     ]
    }
   ],
   "source": [
    "import os\n",
    "from pymongo import MongoClient\n",
    "from dotenv import load_dotenv\n",
    "\n",
    "# Load environment variables\n",
    "load_dotenv()\n",
    "uri = os.getenv(\"MONGODB_URI\")\n",
    "database = os.getenv(\"MONGODB_DATABASE\")\n",
    "collection_name = \"nozzles\"\n",
    "\n",
    "# Connect to MongoDB\n",
    "client = MongoClient(uri)\n",
    "db = client[database]\n",
    "collection = db[collection_name]\n",
    "\n",
    "# Option 1: Delete all documents (collection stays)\n",
    "result = collection.delete_many({})\n",
    "print(f\"Deleted {result.deleted_count} documents from '{collection_name}'.\")\n",
    "\n",
    "# Option 2: Drop the entire collection (uncomment if needed)\n",
    "# db.drop_collection(collection_name)\n",
    "# print(f\"Collection '{collection_name}' dropped.\")\n"
   ]
  }
 ],
 "metadata": {
  "kernelspec": {
   "display_name": ".venv",
   "language": "python",
   "name": "python3"
  },
  "language_info": {
   "codemirror_mode": {
    "name": "ipython",
    "version": 3
   },
   "file_extension": ".py",
   "mimetype": "text/x-python",
   "name": "python",
   "nbconvert_exporter": "python",
   "pygments_lexer": "ipython3",
   "version": "3.12.0"
  }
 },
 "nbformat": 4,
 "nbformat_minor": 5
}
