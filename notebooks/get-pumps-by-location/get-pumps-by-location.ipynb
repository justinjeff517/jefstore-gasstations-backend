{
 "cells": [
  {
   "cell_type": "code",
   "execution_count": 1,
   "id": "83b5553e",
   "metadata": {},
   "outputs": [
    {
     "name": "stdout",
     "output_type": "stream",
     "text": [
      "[\n",
      "  {\n",
      "    \"id\": \"1\",\n",
      "    \"name\": \"dispenser-one\",\n",
      "    \"pumps\": [\n",
      "      {\n",
      "        \"id\": 1,\n",
      "        \"name\": \"premium\"\n",
      "      },\n",
      "      {\n",
      "        \"id\": 2,\n",
      "        \"name\": \"regular\"\n",
      "      }\n",
      "    ]\n",
      "  },\n",
      "  {\n",
      "    \"id\": \"2\",\n",
      "    \"name\": \"dispenser-two\",\n",
      "    \"pumps\": [\n",
      "      {\n",
      "        \"id\": 4,\n",
      "        \"name\": \"diesel\"\n",
      "      },\n",
      "      {\n",
      "        \"id\": 3,\n",
      "        \"name\": \"regular\"\n",
      "      }\n",
      "    ]\n",
      "  }\n",
      "]\n"
     ]
    }
   ],
   "source": [
    "import os, json\n",
    "from pymongo import MongoClient\n",
    "from dotenv import load_dotenv\n",
    "\n",
    "load_dotenv()\n",
    "client = MongoClient(os.getenv(\"MONGODB_URI\"), tz_aware=True)\n",
    "db = client[os.getenv(\"MONGODB_DATABASE\")]\n",
    "dispensers = db[\"dispensers\"]\n",
    "\n",
    "location = \"sikatuna\"\n",
    "\n",
    "pipeline = [\n",
    "    {\"$match\": {\"location\": location}},\n",
    "    {\n",
    "        \"$lookup\": {\n",
    "            \"from\": \"pumps\",\n",
    "            \"let\": {\"did\": \"$id\", \"loc\": \"$location\"},\n",
    "            \"pipeline\": [\n",
    "                {\"$match\": {\n",
    "                    \"$expr\": {\n",
    "                        \"$and\": [\n",
    "                            {\"$eq\": [{\"$toString\": \"$dispenser_id\"}, {\"$toString\": \"$$did\"}]},\n",
    "                            {\"$eq\": [\"$location\", \"$$loc\"]}\n",
    "                        ]\n",
    "                    }\n",
    "                }},\n",
    "                {\"$project\": {\"_id\": 0, \"id\": 1, \"name\": 1}}\n",
    "            ],\n",
    "            \"as\": \"pumps\"\n",
    "        }\n",
    "    },\n",
    "    {\"$project\": {\"_id\": 0, \"id\": 1, \"name\": 1, \"pumps\": 1}},\n",
    "    {\"$sort\": {\"name\": 1}}\n",
    "]\n",
    "\n",
    "docs = list(dispensers.aggregate(pipeline))\n",
    "print(json.dumps(docs, indent=2, ensure_ascii=False))\n"
   ]
  }
 ],
 "metadata": {
  "kernelspec": {
   "display_name": ".venv",
   "language": "python",
   "name": "python3"
  },
  "language_info": {
   "codemirror_mode": {
    "name": "ipython",
    "version": 3
   },
   "file_extension": ".py",
   "mimetype": "text/x-python",
   "name": "python",
   "nbconvert_exporter": "python",
   "pygments_lexer": "ipython3",
   "version": "3.12.0"
  }
 },
 "nbformat": 4,
 "nbformat_minor": 5
}
