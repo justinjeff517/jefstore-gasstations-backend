{
 "cells": [
  {
   "cell_type": "code",
   "execution_count": 1,
   "id": "fbd6fd81",
   "metadata": {},
   "outputs": [
    {
     "name": "stdout",
     "output_type": "stream",
     "text": [
      "✅ Found the latest EMPTY form:\n",
      "{\n",
      "  \"_id\": \"68ed1b27c3992aaea60563f1\",\n",
      "  \"id\": \"5812d170-c0fb-4a77-a0f1-263616dc7a67\",\n",
      "  \"previous_form_qr_code\": \"20251012\",\n",
      "  \"current_form_qr_code\": \"a1b36b5a\",\n",
      "  \"tin\": \"123-456-789\",\n",
      "  \"location\": \"JEF Gas Station \\u2013 Sikatuna Branch\",\n",
      "  \"created\": \"2025-10-13T15:30:47.572217+00:00\",\n",
      "  \"date\": \"2025-10-13\"\n",
      "}\n"
     ]
    }
   ],
   "source": [
    "# Get the latest EMPTY form (if exactly one exists)\n",
    "\n",
    "import json, os\n",
    "from pymongo import MongoClient\n",
    "from dotenv import load_dotenv\n",
    "\n",
    "# --- Setup ---\n",
    "load_dotenv()\n",
    "uri = os.getenv(\"MONGODB_URI\")\n",
    "database_name = os.getenv(\"MONGODB_DATABASE\")\n",
    "collection_name = \"sales_invoices\"\n",
    "\n",
    "if not uri or not database_name:\n",
    "    raise RuntimeError(\"Missing MONGODB_URI or MONGODB_DATABASE in environment.\")\n",
    "\n",
    "client = MongoClient(uri)\n",
    "db = client[database_name]\n",
    "col = db[collection_name]\n",
    "\n",
    "# --- Filter for empty form ---\n",
    "empty_filter = {\n",
    "    \"$or\": [\n",
    "        {\"items\": {\"$exists\": False}},\n",
    "        {\"items\": {\"$size\": 0}}\n",
    "    ]\n",
    "}\n",
    "\n",
    "# --- Get the latest empty form ---\n",
    "empty_doc = col.find_one(empty_filter, sort=[(\"created\", -1)])\n",
    "\n",
    "if not empty_doc:\n",
    "    raise RuntimeError(\"❌ No EMPTY form found in collection.\")\n",
    "\n",
    "print(\"✅ Found the latest EMPTY form:\")\n",
    "print(json.dumps(empty_doc, indent=2, default=str))\n",
    "\n",
    "# 'empty_doc' now contains the latest empty sales invoice form\n"
   ]
  }
 ],
 "metadata": {
  "kernelspec": {
   "display_name": ".venv",
   "language": "python",
   "name": "python3"
  },
  "language_info": {
   "codemirror_mode": {
    "name": "ipython",
    "version": 3
   },
   "file_extension": ".py",
   "mimetype": "text/x-python",
   "name": "python",
   "nbconvert_exporter": "python",
   "pygments_lexer": "ipython3",
   "version": "3.12.0"
  }
 },
 "nbformat": 4,
 "nbformat_minor": 5
}
