{
 "cells": [
  {
   "cell_type": "code",
   "execution_count": 10,
   "id": "a370a7c3",
   "metadata": {},
   "outputs": [
    {
     "name": "stdout",
     "output_type": "stream",
     "text": [
      "{\"is_empty\": true, \"exists\": true, \"status\": \"EMPTY\"}\n"
     ]
    }
   ],
   "source": [
    "import os, json\n",
    "from pymongo import MongoClient\n",
    "from dotenv import load_dotenv\n",
    "\n",
    "current_form_qr_code = \"12345678\"  # <- set this\n",
    "\n",
    "load_dotenv()\n",
    "col = MongoClient(os.getenv(\"MONGODB_URI\"))[os.getenv(\"MONGODB_DATABASE\")][\"sales_invoices\"]\n",
    "\n",
    "doc = col.find_one({\"current_form_qr_code\": current_form_qr_code})\n",
    "\n",
    "exists = bool(doc)\n",
    "is_empty = bool(doc and doc.get(\"is_empty\", False))\n",
    "status = \"EMPTY\" if (exists and is_empty) else (\"FILLED\" if exists else \"NOT_FOUND\")\n",
    "\n",
    "# When not found: is_empty=False and exists=False, per your rule.\n",
    "if not exists:\n",
    "    is_empty = False\n",
    "\n",
    "print(json.dumps({\"is_empty\": is_empty, \"exists\": exists, \"status\": status}))\n"
   ]
  }
 ],
 "metadata": {
  "kernelspec": {
   "display_name": ".venv",
   "language": "python",
   "name": "python3"
  },
  "language_info": {
   "codemirror_mode": {
    "name": "ipython",
    "version": 3
   },
   "file_extension": ".py",
   "mimetype": "text/x-python",
   "name": "python",
   "nbconvert_exporter": "python",
   "pygments_lexer": "ipython3",
   "version": "3.12.0"
  }
 },
 "nbformat": 4,
 "nbformat_minor": 5
}
