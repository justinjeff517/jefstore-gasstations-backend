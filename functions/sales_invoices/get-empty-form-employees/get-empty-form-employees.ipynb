{
 "cells": [
  {
   "cell_type": "code",
   "execution_count": 8,
   "id": "ae499573",
   "metadata": {},
   "outputs": [
    {
     "name": "stdout",
     "output_type": "stream",
     "text": [
      "{\n",
      "  \"employees\": [\n",
      "    {\n",
      "      \"role\": \"cashier\"\n",
      "    },\n",
      "    {\n",
      "      \"role\": \"recorder\"\n",
      "    }\n",
      "  ]\n",
      "}\n"
     ]
    }
   ],
   "source": [
    "import os, sys, json\n",
    "from pymongo import MongoClient\n",
    "from dotenv import load_dotenv\n",
    "from bson import json_util as bsonju\n",
    "\n",
    "load_dotenv()\n",
    "uri = os.getenv(\"MONGODB_URI\")\n",
    "dbn = os.getenv(\"MONGODB_DATABASE\")\n",
    "if not uri or not dbn:\n",
    "    raise RuntimeError(\"Set MONGODB_URI and MONGODB_DATABASE in your .env\")\n",
    "\n",
    "c = MongoClient(uri)[dbn][\"sales_invoices\"]\n",
    "\n",
    "docs = list(\n",
    "    c.find(\n",
    "        {\"is_empty\": True},\n",
    "        {\"employees\": 1, \"id\": 1, \"current_form_qr_code\": 1, \"created\": 1, \"_id\": 0},\n",
    "    )\n",
    ")\n",
    "\n",
    "if len(docs) != 1:\n",
    "    print(f\"Expected exactly 1 empty form, found {len(docs)}\")\n",
    "    print(bsonju.dumps(docs, indent=2, ensure_ascii=False))\n",
    "    sys.exit(0)\n",
    "\n",
    "doc = docs[0]\n",
    "employees = doc.get(\"employees\")\n",
    "\n",
    "if isinstance(employees, dict):\n",
    "    employees = [employees]\n",
    "elif not isinstance(employees, list):\n",
    "    employees = []\n",
    "\n",
    "out = {\n",
    "\n",
    "    \"employees\": employees,\n",
    "}\n",
    "\n",
    "print(bsonju.dumps(out, indent=2, ensure_ascii=False))\n"
   ]
  }
 ],
 "metadata": {
  "kernelspec": {
   "display_name": ".venv",
   "language": "python",
   "name": "python3"
  },
  "language_info": {
   "codemirror_mode": {
    "name": "ipython",
    "version": 3
   },
   "file_extension": ".py",
   "mimetype": "text/x-python",
   "name": "python",
   "nbconvert_exporter": "python",
   "pygments_lexer": "ipython3",
   "version": "3.12.0"
  }
 },
 "nbformat": 4,
 "nbformat_minor": 5
}
