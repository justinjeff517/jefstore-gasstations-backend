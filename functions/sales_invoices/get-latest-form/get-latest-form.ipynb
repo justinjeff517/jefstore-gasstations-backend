{
 "cells": [
  {
   "cell_type": "code",
   "execution_count": 3,
   "id": "465b6b13",
   "metadata": {},
   "outputs": [
    {
     "name": "stdout",
     "output_type": "stream",
     "text": [
      "✅ Latest created sales invoice form:\n",
      "{\n",
      "  \"_id\": \"68ed1b27c3992aaea60563f1\",\n",
      "  \"id\": \"2b877c11-acbc-40f4-80c5-9bd13bb2d71f\",\n",
      "  \"previous_form_qr_code\": \"20251012\",\n",
      "  \"current_form_qr_code\": \"20251013\",\n",
      "  \"tin\": \"123-456-789\",\n",
      "  \"location\": \"JEF Gas Station \\u2013 Sikatuna Branch\",\n",
      "  \"created\": \"2025-10-13T05:03:46.557977Z\",\n",
      "  \"date\": \"2025-10-13\",\n",
      "  \"cashier_employee_number\": \"11111\",\n",
      "  \"items\": [\n",
      "    {\n",
      "      \"receipt_number\": \"123456\",\n",
      "      \"customer_name\": \"Markus\",\n",
      "      \"type\": \"fuel\",\n",
      "      \"vatable_sales\": \"50.00\",\n",
      "      \"vat_amount\": \"6.00\",\n",
      "      \"total_amount\": \"56.00\"\n",
      "    },\n",
      "    {\n",
      "      \"receipt_number\": \"444587\",\n",
      "      \"customer_name\": \"Mike\",\n",
      "      \"type\": \"fuel\",\n",
      "      \"vatable_sales\": \"120.00\",\n",
      "      \"vat_amount\": \"14.40\",\n",
      "      \"total_amount\": \"134.40\"\n",
      "    }\n",
      "  ],\n",
      "  \"recorder_employee_number\": \"22222\"\n",
      "}\n"
     ]
    }
   ],
   "source": [
    "import json, os\n",
    "from pymongo import MongoClient\n",
    "from dotenv import load_dotenv\n",
    "\n",
    "# --- Setup ---\n",
    "load_dotenv()\n",
    "uri = os.getenv(\"MONGODB_URI\")\n",
    "database_name = os.getenv(\"MONGODB_DATABASE\")\n",
    "collection_name = \"sales_invoices\"\n",
    "\n",
    "if not uri or not database_name:\n",
    "    raise RuntimeError(\"Missing MONGODB_URI or MONGODB_DATABASE in environment.\")\n",
    "\n",
    "client = MongoClient(uri)\n",
    "db = client[database_name]\n",
    "col = db[collection_name]\n",
    "\n",
    "# --- Find the latest created document ---\n",
    "latest_doc = col.find_one({}, sort=[(\"created\", -1)])\n",
    "\n",
    "if not latest_doc:\n",
    "    raise RuntimeError(\"❌ No documents found in collection.\")\n",
    "\n",
    "print(\"✅ Latest created sales invoice form:\")\n",
    "print(json.dumps(latest_doc, indent=2, default=str))\n",
    "\n",
    "# 'latest_doc' is now available for further notebook use.\n"
   ]
  }
 ],
 "metadata": {
  "kernelspec": {
   "display_name": ".venv",
   "language": "python",
   "name": "python3"
  },
  "language_info": {
   "codemirror_mode": {
    "name": "ipython",
    "version": 3
   },
   "file_extension": ".py",
   "mimetype": "text/x-python",
   "name": "python",
   "nbconvert_exporter": "python",
   "pygments_lexer": "ipython3",
   "version": "3.12.0"
  }
 },
 "nbformat": 4,
 "nbformat_minor": 5
}
