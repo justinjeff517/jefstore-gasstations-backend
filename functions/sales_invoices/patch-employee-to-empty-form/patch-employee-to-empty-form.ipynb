{
 "cells": [
  {
   "cell_type": "code",
   "execution_count": null,
   "id": "23c9fb05",
   "metadata": {},
   "outputs": [
    {
     "name": "stdout",
     "output_type": "stream",
     "text": [
      "{\n",
      "  \"ok\": false,\n",
      "  \"reason\": \"role_not_in_empty_form\",\n",
      "  \"role\": \"cashiers\",\n",
      "  \"available_roles\": [\n",
      "    \"cashier\",\n",
      "    \"recorder\"\n",
      "  ]\n",
      "}\n"
     ]
    }
   ],
   "source": [
    "import os, json\n",
    "from pymongo import MongoClient\n",
    "from dotenv import load_dotenv\n",
    "from bson import json_util as bsonju\n",
    "\n",
    "payload = {\"role\": \"cashier\", \"employee_number\": \"10001\", \"name\": \"John Smith\"}\n",
    "\n",
    "def run(payload):\n",
    "    role = (payload.get(\"role\") or \"\").strip()\n",
    "    if not role:\n",
    "        return {\"ok\": False, \"reason\": \"missing_role\"}\n",
    "\n",
    "    load_dotenv()\n",
    "    uri = os.getenv(\"MONGODB_URI\"); dbn = os.getenv(\"MONGODB_DATABASE\")\n",
    "    if not uri or not dbn:\n",
    "        return {\"ok\": False, \"reason\": \"missing_env\"}\n",
    "\n",
    "    col = MongoClient(uri)[dbn][\"sales_invoices\"]\n",
    "\n",
    "    docs = list(col.find({\"is_empty\": True}, {\"employees\": 1}))\n",
    "    if len(docs) != 1:\n",
    "        return {\"ok\": False, \"reason\": \"expected_single_empty_form\", \"found\": len(docs)}\n",
    "\n",
    "    doc = docs[0]; doc_id = doc.get(\"_id\")\n",
    "    employees = doc.get(\"employees\")\n",
    "    if isinstance(employees, dict):\n",
    "        employees = [employees]\n",
    "    elif not isinstance(employees, list):\n",
    "        employees = []\n",
    "\n",
    "    role_key = role.lower()\n",
    "    idx = next((i for i, e in enumerate(employees)\n",
    "                if isinstance(e, dict) and (e.get(\"role\") or \"\").strip().lower() == role_key), None)\n",
    "\n",
    "    if idx is None:\n",
    "        return {\n",
    "            \"ok\": False,\n",
    "            \"reason\": \"role_not_in_empty_form\",\n",
    "            \"role\": role,\n",
    "            \"available_roles\": [str((e or {}).get(\"role\", \"\")).strip() for e in employees if isinstance(e, dict)]\n",
    "        }\n",
    "\n",
    "    current = employees[idx] if isinstance(employees[idx], dict) else {}\n",
    "    employees[idx] = {\n",
    "        \"role\": current.get(\"role\") or role,\n",
    "        \"employee_number\": payload.get(\"employee_number\", current.get(\"employee_number\")),\n",
    "        \"name\": payload.get(\"name\", current.get(\"name\")),\n",
    "    }\n",
    "\n",
    "    res = col.update_one({\"_id\": doc_id}, {\"$set\": {\"employees\": employees}})\n",
    "    return {\n",
    "        \"ok\": True,\n",
    "        \"matched_count\": res.matched_count,\n",
    "        \"modified_count\": res.modified_count,\n",
    "        \"updated_employee\": employees[idx],\n",
    "    }\n",
    "\n",
    "out = run(payload)\n",
    "print(bsonju.dumps(out, indent=2, ensure_ascii=False))\n"
   ]
  }
 ],
 "metadata": {
  "kernelspec": {
   "display_name": ".venv",
   "language": "python",
   "name": "python3"
  },
  "language_info": {
   "codemirror_mode": {
    "name": "ipython",
    "version": 3
   },
   "file_extension": ".py",
   "mimetype": "text/x-python",
   "name": "python",
   "nbconvert_exporter": "python",
   "pygments_lexer": "ipython3",
   "version": "3.12.0"
  }
 },
 "nbformat": 4,
 "nbformat_minor": 5
}
