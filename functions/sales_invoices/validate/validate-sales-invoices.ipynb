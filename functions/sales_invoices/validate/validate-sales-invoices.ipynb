{
 "cells": [
  {
   "cell_type": "code",
   "execution_count": 1,
   "id": "20491ae0",
   "metadata": {},
   "outputs": [
    {
     "name": "stdout",
     "output_type": "stream",
     "text": [
      "✅ Validation passed: Exactly ONE EMPTY form found.\n",
      "{\n",
      "  \"_id\": \"68ed1b27c3992aaea60563f1\",\n",
      "  \"id\": \"5812d170-c0fb-4a77-a0f1-263616dc7a67\",\n",
      "  \"previous_form_qr_code\": \"20251012\",\n",
      "  \"current_form_qr_code\": \"a1b36b5a\",\n",
      "  \"tin\": \"123-456-789\",\n",
      "  \"location\": \"JEF Gas Station \\u2013 Sikatuna Branch\",\n",
      "  \"created\": \"2025-10-13T15:30:47.572217+00:00\",\n",
      "  \"date\": \"2025-10-13\"\n",
      "}\n"
     ]
    }
   ],
   "source": [
    "# Validate there is exactly ONE empty sales invoice form, and return it.\n",
    "\n",
    "import json, os\n",
    "from pymongo import MongoClient\n",
    "from dotenv import load_dotenv\n",
    "\n",
    "# --- Setup ---\n",
    "load_dotenv()\n",
    "uri = os.getenv(\"MONGODB_URI\")\n",
    "database_name = os.getenv(\"MONGODB_DATABASE\")\n",
    "collection_name = \"sales_invoices\"\n",
    "\n",
    "if not uri or not database_name:\n",
    "    raise RuntimeError(\"Missing MONGODB_URI or MONGODB_DATABASE in environment.\")\n",
    "\n",
    "client = MongoClient(uri)\n",
    "db = client[database_name]\n",
    "col = db[collection_name]\n",
    "\n",
    "# --- Definition of \"empty form\" ---\n",
    "empty_filter = {\n",
    "    \"$or\": [\n",
    "        {\"items\": {\"$exists\": False}},\n",
    "        {\"items\": {\"$size\": 0}}\n",
    "    ]\n",
    "}\n",
    "\n",
    "# --- Find ALL empty forms (newest first for easier debugging) ---\n",
    "empty_docs = list(col.find(empty_filter).sort(\"created\", -1))\n",
    "\n",
    "count = len(empty_docs)\n",
    "\n",
    "if count == 0:\n",
    "    raise RuntimeError(\"❌ Validation failed: No EMPTY form found in collection.\")\n",
    "\n",
    "if count > 1:\n",
    "    # Provide a brief debug summary so you can resolve duplicates.\n",
    "    summary = [\n",
    "        {\n",
    "            \"_id\": str(d.get(\"_id\")),\n",
    "            \"id\": d.get(\"id\"),\n",
    "            \"current_form_qr_code\": d.get(\"current_form_qr_code\"),\n",
    "            \"created\": str(d.get(\"created\")),\n",
    "            \"date\": d.get(\"date\"),\n",
    "        }\n",
    "        for d in empty_docs\n",
    "    ]\n",
    "    raise RuntimeError(\n",
    "        \"❌ Validation failed: More than one EMPTY form found. \"\n",
    "        f\"Count={count}. Resolve duplicates so only one remains.\\n\"\n",
    "        f\"Debug summary:\\n{json.dumps(summary, indent=2, default=str)}\"\n",
    "    )\n",
    "\n",
    "# --- Exactly one empty form -> return/print it ---\n",
    "empty_doc = empty_docs[0]\n",
    "print(\"✅ Validation passed: Exactly ONE EMPTY form found.\")\n",
    "print(json.dumps(empty_doc, indent=2, default=str))\n",
    "\n",
    "# 'empty_doc' is now available for further notebook use.\n"
   ]
  }
 ],
 "metadata": {
  "kernelspec": {
   "display_name": ".venv",
   "language": "python",
   "name": "python3"
  },
  "language_info": {
   "codemirror_mode": {
    "name": "ipython",
    "version": 3
   },
   "file_extension": ".py",
   "mimetype": "text/x-python",
   "name": "python",
   "nbconvert_exporter": "python",
   "pygments_lexer": "ipython3",
   "version": "3.12.0"
  }
 },
 "nbformat": 4,
 "nbformat_minor": 5
}
