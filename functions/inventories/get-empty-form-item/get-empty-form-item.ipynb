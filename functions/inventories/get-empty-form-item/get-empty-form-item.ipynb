{
 "cells": [
  {
   "cell_type": "code",
   "execution_count": 2,
   "id": "b36ac440",
   "metadata": {},
   "outputs": [
    {
     "name": "stdout",
     "output_type": "stream",
     "text": [
      "{\n",
      "  \"barcode\": \"4809992000101\",\n",
      "  \"type\": \"fuel\",\n",
      "  \"name\": \"Premium Gasoline\",\n",
      "  \"price\": 69.5,\n",
      "  \"unit\": \"liter\",\n",
      "  \"previous_quantity\": 570,\n",
      "  \"addstock\": 0,\n",
      "  \"sold\": 0,\n",
      "  \"current_quantity\": 0,\n",
      "  \"created\": {\n",
      "    \"$date\": 1760457682654\n",
      "  },\n",
      "  \"updated\": {\n",
      "    \"$date\": 1760457682654\n",
      "  },\n",
      "  \"id\": \"249f4956-70a7-4557-ad9a-95a400bb0f47\",\n",
      "  \"item_number\": \"1\"\n",
      "}\n"
     ]
    }
   ],
   "source": [
    "import os, json\n",
    "from dotenv import load_dotenv\n",
    "from pymongo import MongoClient\n",
    "from bson import json_util as bsonju\n",
    "\n",
    "# --- parameter ---\n",
    "BARCODE = \"4809992000101\"\n",
    "\n",
    "# --- connect ---\n",
    "load_dotenv()\n",
    "client = MongoClient(os.getenv(\"MONGODB_URI\"))\n",
    "coll = client[os.getenv(\"MONGODB_DATABASE\")][\"inventories\"]\n",
    "\n",
    "# --- find the open form containing the barcode ---\n",
    "doc = coll.find_one(\n",
    "    {\"is_empty\": True, \"items.barcode\": BARCODE},\n",
    "    {\"_id\": 0, \"id\": 1, \"current_form_qr_code\": 1, \"is_empty\": 1, \"items\": 1}\n",
    ")\n",
    "\n",
    "if not doc:\n",
    "    raise RuntimeError(\"No open (is_empty=True) inventory contains that barcode.\")\n",
    "\n",
    "item = next((it for it in (doc.get(\"items\") or []) if it.get(\"barcode\") == BARCODE), None)\n",
    "if not item:\n",
    "    raise RuntimeError(\"Item not found in the matched inventory (unexpected).\")\n",
    "\n",
    "out = {\n",
    "\n",
    "        \"barcode\": item.get(\"barcode\"),\n",
    "        \"type\": item.get(\"type\"),\n",
    "        \"name\": item.get(\"name\"),\n",
    "        \"price\": item.get(\"price\"),\n",
    "        \"unit\": item.get(\"unit\"),\n",
    "        \"previous_quantity\": item.get(\"previous_quantity\"),\n",
    "        \"addstock\": item.get(\"addstock\"),\n",
    "        \"sold\": item.get(\"sold\"),\n",
    "        \"current_quantity\": item.get(\"current_quantity\"),\n",
    "        \"created\": item.get(\"created\"),\n",
    "        \"updated\": item.get(\"updated\"),\n",
    "        \"id\": item.get(\"id\"),\n",
    "        \"item_number\": item.get(\"item_number\"),\n",
    "    \n",
    "}\n",
    "\n",
    "print(bsonju.dumps(out, ensure_ascii=False, indent=2))\n"
   ]
  }
 ],
 "metadata": {
  "kernelspec": {
   "display_name": ".venv",
   "language": "python",
   "name": "python3"
  },
  "language_info": {
   "codemirror_mode": {
    "name": "ipython",
    "version": 3
   },
   "file_extension": ".py",
   "mimetype": "text/x-python",
   "name": "python",
   "nbconvert_exporter": "python",
   "pygments_lexer": "ipython3",
   "version": "3.12.0"
  }
 },
 "nbformat": 4,
 "nbformat_minor": 5
}
