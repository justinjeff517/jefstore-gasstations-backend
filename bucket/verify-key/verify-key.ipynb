{
 "cells": [
  {
   "cell_type": "code",
   "execution_count": 5,
   "id": "84912dcc",
   "metadata": {},
   "outputs": [
    {
     "name": "stdout",
     "output_type": "stream",
     "text": [
      "❌ Does not exist: caramel-frappe/actual2.jpg\n"
     ]
    }
   ],
   "source": [
    "import boto3, os\n",
    "from dotenv import load_dotenv\n",
    "from botocore.exceptions import ClientError\n",
    "from urllib.parse import urlparse\n",
    "\n",
    "# Load credentials\n",
    "load_dotenv()\n",
    "ACCESS_KEY = os.getenv(\"SPACES_ACCESS_KEY\")\n",
    "SECRET_KEY = os.getenv(\"SPACES_SECRET_KEY\")\n",
    "BUCKET = \"jef-bucket-one\"\n",
    "REGION = \"sgp1\"\n",
    "ENDPOINT = f\"https://{REGION}.digitaloceanspaces.com\"\n",
    "\n",
    "# Create S3 client\n",
    "s3 = boto3.client(\n",
    "    \"s3\",\n",
    "    endpoint_url=ENDPOINT,\n",
    "    aws_access_key_id=ACCESS_KEY,\n",
    "    aws_secret_access_key=SECRET_KEY,\n",
    ")\n",
    "\n",
    "# -------------------\n",
    "# Check if key exists\n",
    "# -------------------\n",
    "def key_exists(bucket: str, key: str) -> bool:\n",
    "    try:\n",
    "        s3.head_object(Bucket=bucket, Key=key)\n",
    "        return True\n",
    "    except ClientError as e:\n",
    "        if e.response[\"Error\"][\"Code\"] == \"404\":\n",
    "            return False\n",
    "        else:\n",
    "            raise  # other errors (e.g. permissions)\n",
    "\n",
    "# -------------------\n",
    "# Helper: Extract key if full URL is given\n",
    "# -------------------\n",
    "def get_key_from_url(url: str, bucket: str) -> str:\n",
    "    parsed = urlparse(url)\n",
    "    path = parsed.path.lstrip(\"/\")  # remove leading \"/\"\n",
    "    if path.startswith(bucket + \"/\"):\n",
    "        path = path[len(bucket) + 1:]  # strip bucket name if included\n",
    "    return path\n",
    "\n",
    "# Example usage\n",
    "url_to_check = \"https://jef-bucket-one.sgp1.digitaloceanspaces.com/caramel-frappe/actual2.jpg\"\n",
    "key_to_check = get_key_from_url(url_to_check, BUCKET)\n",
    "\n",
    "if key_exists(BUCKET, key_to_check):\n",
    "    print(f\"✅ Exists: {key_to_check}\")\n",
    "else:\n",
    "    print(f\"❌ Does not exist: {key_to_check}\")\n"
   ]
  }
 ],
 "metadata": {
  "kernelspec": {
   "display_name": ".venv",
   "language": "python",
   "name": "python3"
  },
  "language_info": {
   "codemirror_mode": {
    "name": "ipython",
    "version": 3
   },
   "file_extension": ".py",
   "mimetype": "text/x-python",
   "name": "python",
   "nbconvert_exporter": "python",
   "pygments_lexer": "ipython3",
   "version": "3.13.1"
  }
 },
 "nbformat": 4,
 "nbformat_minor": 5
}
