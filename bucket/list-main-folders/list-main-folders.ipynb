{
 "cells": [
  {
   "cell_type": "code",
   "execution_count": 1,
   "id": "919f6b9e",
   "metadata": {},
   "outputs": [
    {
     "name": "stdout",
     "output_type": "stream",
     "text": [
      "Folders in bucket:\n",
      " - jefstore-caferimo/\n",
      " - test-folder/\n"
     ]
    }
   ],
   "source": [
    "import boto3, os\n",
    "from dotenv import load_dotenv\n",
    "\n",
    "# Load API keys from .env\n",
    "load_dotenv()\n",
    "ACCESS_KEY = os.getenv(\"SPACES_ACCESS_KEY\")\n",
    "SECRET_KEY = os.getenv(\"SPACES_SECRET_KEY\")\n",
    "BUCKET = \"jef-bucket-one\"\n",
    "REGION = \"sgp1\"\n",
    "ENDPOINT = f\"https://{REGION}.digitaloceanspaces.com\"\n",
    "\n",
    "# Create S3 client\n",
    "s3 = boto3.client(\n",
    "    \"s3\",\n",
    "    endpoint_url=ENDPOINT,\n",
    "    aws_access_key_id=ACCESS_KEY,\n",
    "    aws_secret_access_key=SECRET_KEY,\n",
    ")\n",
    "\n",
    "# -------------------\n",
    "# List \"folders\" at the root of the bucket\n",
    "# -------------------\n",
    "resp = s3.list_objects_v2(\n",
    "    Bucket=BUCKET,\n",
    "    Delimiter=\"/\"   # tells S3 to group by folder\n",
    ")\n",
    "\n",
    "folders = [c[\"Prefix\"] for c in resp.get(\"CommonPrefixes\", [])]\n",
    "\n",
    "print(\"Folders in bucket:\")\n",
    "for f in folders:\n",
    "    print(\" -\", f)\n"
   ]
  }
 ],
 "metadata": {
  "kernelspec": {
   "display_name": ".venv",
   "language": "python",
   "name": "python3"
  },
  "language_info": {
   "codemirror_mode": {
    "name": "ipython",
    "version": 3
   },
   "file_extension": ".py",
   "mimetype": "text/x-python",
   "name": "python",
   "nbconvert_exporter": "python",
   "pygments_lexer": "ipython3",
   "version": "3.12.0"
  }
 },
 "nbformat": 4,
 "nbformat_minor": 5
}
