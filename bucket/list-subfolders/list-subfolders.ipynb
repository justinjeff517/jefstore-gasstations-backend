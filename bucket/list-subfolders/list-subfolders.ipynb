{
 "cells": [
  {
   "cell_type": "code",
   "execution_count": 1,
   "id": "3f5d64a2",
   "metadata": {},
   "outputs": [
    {
     "name": "stdout",
     "output_type": "stream",
     "text": [
      "Subfolders:\n",
      "\n",
      "Files:\n",
      " - caramel-frappe/actual.jpg\n",
      " - caramel-frappe/menu.png\n"
     ]
    }
   ],
   "source": [
    "import boto3, os\n",
    "from dotenv import load_dotenv\n",
    "\n",
    "# Load API keys from .env\n",
    "load_dotenv()\n",
    "ACCESS_KEY = os.getenv(\"SPACES_ACCESS_KEY\")\n",
    "SECRET_KEY = os.getenv(\"SPACES_SECRET_KEY\")\n",
    "BUCKET = \"jef-bucket-one\"\n",
    "REGION = \"sgp1\"\n",
    "ENDPOINT = f\"https://{REGION}.digitaloceanspaces.com\"\n",
    "\n",
    "# Create S3 client\n",
    "s3 = boto3.client(\n",
    "    \"s3\",\n",
    "    endpoint_url=ENDPOINT,\n",
    "    aws_access_key_id=ACCESS_KEY,\n",
    "    aws_secret_access_key=SECRET_KEY,\n",
    ")\n",
    "\n",
    "# -------------------\n",
    "# List \"folders\" at the root of the bucket\n",
    "# -------------------\n",
    "resp = s3.list_objects_v2(\n",
    "    Bucket=BUCKET,\n",
    "    Delimiter=\"/\",\n",
    "    Prefix=\"caramel-frappe/\"\n",
    ")\n",
    "\n",
    "subfolders = [c[\"Prefix\"] for c in resp.get(\"CommonPrefixes\", [])]\n",
    "files = [c[\"Key\"] for c in resp.get(\"Contents\", []) if c[\"Key\"] != \"caramel-frappe/\"]\n",
    "\n",
    "print(\"Subfolders:\")\n",
    "for sf in subfolders:\n",
    "    print(\" -\", sf)\n",
    "\n",
    "print(\"\\nFiles:\")\n",
    "for f in files:\n",
    "    print(\" -\", f)"
   ]
  }
 ],
 "metadata": {
  "kernelspec": {
   "display_name": ".venv",
   "language": "python",
   "name": "python3"
  },
  "language_info": {
   "codemirror_mode": {
    "name": "ipython",
    "version": 3
   },
   "file_extension": ".py",
   "mimetype": "text/x-python",
   "name": "python",
   "nbconvert_exporter": "python",
   "pygments_lexer": "ipython3",
   "version": "3.13.1"
  }
 },
 "nbformat": 4,
 "nbformat_minor": 5
}
