{
 "cells": [
  {
   "cell_type": "code",
   "execution_count": 3,
   "id": "8ad49fbc",
   "metadata": {},
   "outputs": [
    {
     "name": "stdout",
     "output_type": "stream",
     "text": [
      "PDF created locally: fuel_po_28446206.pdf\n",
      "Uploaded to: https://jef-bucket-one.sgp1.digitaloceanspaces.com/purchase-orders/fuel/28446206.pdf\n"
     ]
    }
   ],
   "source": [
    "import os\n",
    "import boto3\n",
    "from dotenv import load_dotenv\n",
    "from reportlab.pdfgen import canvas\n",
    "from reportlab.lib.pagesizes import A4\n",
    "\n",
    "# --------------------\n",
    "# Load credentials\n",
    "# --------------------\n",
    "load_dotenv()\n",
    "ACCESS_KEY = os.getenv(\"SPACES_ACCESS_KEY\")\n",
    "SECRET_KEY = os.getenv(\"SPACES_SECRET_KEY\")\n",
    "BUCKET = \"jef-bucket-one\"\n",
    "REGION = \"sgp1\"\n",
    "ENDPOINT = f\"https://{REGION}.digitaloceanspaces.com\"\n",
    "\n",
    "# --------------------\n",
    "# Generate a local PDF\n",
    "# --------------------\n",
    "po_number = \"28446206\"  # replace dynamically if needed\n",
    "local_pdf_path = f\"fuel_po_{po_number}.pdf\"\n",
    "\n",
    "c = canvas.Canvas(local_pdf_path, pagesize=A4)\n",
    "c.setFont(\"Helvetica\", 16)\n",
    "c.drawString(100, 750, f\"Fuel Purchase Order #{po_number}\")\n",
    "c.drawString(100, 720, \"Generated via Jupyter + ReportLab + v2\")\n",
    "c.showPage()\n",
    "c.save()\n",
    "\n",
    "print(\"PDF created locally:\", local_pdf_path)\n",
    "\n",
    "# --------------------\n",
    "# Upload to Spaces\n",
    "# --------------------\n",
    "s3 = boto3.client(\n",
    "    \"s3\",\n",
    "    endpoint_url=ENDPOINT,\n",
    "    aws_access_key_id=ACCESS_KEY,\n",
    "    aws_secret_access_key=SECRET_KEY,\n",
    ")\n",
    "\n",
    "key = f\"purchase-orders/fuel/{po_number}.pdf\"\n",
    "\n",
    "with open(local_pdf_path, \"rb\") as f:\n",
    "    s3.upload_fileobj(f, BUCKET, key, ExtraArgs={\"ContentType\": \"application/pdf\"})\n",
    "\n",
    "print(\"Uploaded to:\", f\"https://{BUCKET}.{REGION}.digitaloceanspaces.com/{key}\")\n"
   ]
  }
 ],
 "metadata": {
  "kernelspec": {
   "display_name": ".venv",
   "language": "python",
   "name": "python3"
  },
  "language_info": {
   "codemirror_mode": {
    "name": "ipython",
    "version": 3
   },
   "file_extension": ".py",
   "mimetype": "text/x-python",
   "name": "python",
   "nbconvert_exporter": "python",
   "pygments_lexer": "ipython3",
   "version": "3.13.1"
  }
 },
 "nbformat": 4,
 "nbformat_minor": 5
}
