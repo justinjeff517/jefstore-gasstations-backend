{
 "cells": [
  {
   "cell_type": "code",
   "execution_count": null,
   "id": "d50c4551",
   "metadata": {},
   "outputs": [
    {
     "name": "stdout",
     "output_type": "stream",
     "text": [
      "False\n"
     ]
    }
   ],
   "source": [
    "import os\n",
    "import boto3\n",
    "from dotenv import load_dotenv\n",
    "from botocore.client import Config\n",
    "from botocore.exceptions import ClientError\n",
    "\n",
    "load_dotenv()\n",
    "\n",
    "ACCESS_KEY = os.getenv(\"SPACES_ACCESS_KEY\")\n",
    "SECRET_KEY = os.getenv(\"SPACES_SECRET_KEY\")\n",
    "BUCKET = os.getenv(\"SPACES_BUCKET\", \"jef-bucket-one\")\n",
    "REGION = os.getenv(\"SPACES_REGION\", \"sgp1\")\n",
    "ENDPOINT = os.getenv(\"SPACES_ENDPOINT\", f\"https://{REGION}.digitaloceanspaces.com\")\n",
    "\n",
    "if not ACCESS_KEY or not SECRET_KEY:\n",
    "    raise RuntimeError(\"Missing SPACES_ACCESS_KEY or SPACES_SECRET_KEY\")\n",
    "\n",
    "s3 = boto3.client(\n",
    "    \"s3\",\n",
    "    endpoint_url=ENDPOINT,\n",
    "    aws_access_key_id=ACCESS_KEY,\n",
    "    aws_secret_access_key=SECRET_KEY,\n",
    "    config=Config(signature_version=\"s3v4\"),\n",
    ")\n",
    "\n",
    "def key_exists(key: str) -> bool:\n",
    "    try:\n",
    "        s3.head_object(Bucket=BUCKET, Key=key)\n",
    "        return True\n",
    "    except ClientError as e:\n",
    "        if e.response.get(\"ResponseMetadata\", {}).get(\"HTTPStatusCode\") == 404 or e.response.get(\"Error\", {}).get(\"Code\") in (\"404\", \"NoSuchKey\", \"NotFound\"):\n",
    "            return False\n",
    "        raise\n",
    "key = \"test-folder/42633461.pdf\"\n",
    "\n",
    "print(key_exists(key))\n"
   ]
  }
 ],
 "metadata": {
  "kernelspec": {
   "display_name": ".venv",
   "language": "python",
   "name": "python3"
  },
  "language_info": {
   "codemirror_mode": {
    "name": "ipython",
    "version": 3
   },
   "file_extension": ".py",
   "mimetype": "text/x-python",
   "name": "python",
   "nbconvert_exporter": "python",
   "pygments_lexer": "ipython3",
   "version": "3.12.0"
  }
 },
 "nbformat": 4,
 "nbformat_minor": 5
}
